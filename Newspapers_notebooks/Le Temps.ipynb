{
 "cells": [
  {
   "cell_type": "markdown",
   "id": "8af193e4",
   "metadata": {},
   "source": [
    "Notebook to get and clean the data od Le Temps about the Covid-19 vaccination"
   ]
  },
  {
   "cell_type": "code",
   "execution_count": null,
   "id": "539e0b98",
   "metadata": {},
   "outputs": [],
   "source": []
  },
  {
   "cell_type": "code",
   "execution_count": 1,
   "id": "facacd72",
   "metadata": {},
   "outputs": [],
   "source": [
    "from helpers import *"
   ]
  },
  {
   "cell_type": "code",
   "execution_count": 20,
   "id": "851974ef",
   "metadata": {},
   "outputs": [
    {
     "name": "stderr",
     "output_type": "stream",
     "text": [
      "\n",
      "\n",
      "====== WebDriver manager ======\n",
      "Current google-chrome version is 96.0.4664\n",
      "Get LATEST driver version for 96.0.4664\n",
      "There is no [linux64] chromedriver for browser 96.0.4664 in cache\n",
      "Get LATEST driver version for 96.0.4664\n",
      "Trying to download new driver from https://chromedriver.storage.googleapis.com/96.0.4664.45/chromedriver_linux64.zip\n",
      "Driver has been saved in cache [/home/david/.wdm/drivers/chromedriver/linux64/96.0.4664.45]\n"
     ]
    }
   ],
   "source": [
    "#Install Driver\n",
    "# Versión Chrome 89.0.4389.114 (Build oficial) (64 bits)\n",
    "driver = webdriver.Chrome(ChromeDriverManager().install())\n"
   ]
  },
  {
   "cell_type": "code",
   "execution_count": 21,
   "id": "9eeb59af",
   "metadata": {},
   "outputs": [],
   "source": [
    "def login(): \n",
    "    driver.find_element_by_xpath('/html/body/div[1]/header/div[1]/div/div/div/div[3]/ul/li[1]/a').click()\n",
    "    time.sleep(1)\n",
    "    driver.find_element_by_xpath('/html/body/div[1]/main/div/div[2]/form/div/div/div/div[1]/input').send_keys(email)\n",
    "    driver.find_element_by_xpath('/html/body/div[1]/main/div/div[2]/form/div/div/div/div[2]/input').send_keys(password)\n",
    "    time.sleep(1)\n",
    "    driver.find_element_by_xpath('/html/body/div[1]/main/div/div[2]/form/div/div/div/div[3]/input').click()"
   ]
  },
  {
   "cell_type": "code",
   "execution_count": 58,
   "id": "21e80d6e",
   "metadata": {},
   "outputs": [],
   "source": [
    "def get_links_le_temps(search_URL): \n",
    "    list_links=[]\n",
    "    driver.get(search_URL)\n",
    "    while True: \n",
    "        links = driver.find_elements_by_xpath('//h3/a')\n",
    "        for i in links: \n",
    "            list_links.append(i.get_attribute('href'))\n",
    "        try :\n",
    "            next = driver.find_element_by_xpath('//a[@rel=\"next\"]')\n",
    "            next.click()\n",
    "            time.sleep(0.5)\n",
    "        except :\n",
    "            print(\"No more pages left\")\n",
    "            break\n",
    "    return list_links"
   ]
  },
  {
   "cell_type": "code",
   "execution_count": 31,
   "id": "a662e778",
   "metadata": {},
   "outputs": [],
   "source": [
    "# Clean function in order to eliminate characters like \\n or \\n\\n after scraping\n",
    "def preprocessor(text):\n",
    "#     text = str(text).lower()\n",
    "    \n",
    "#     text = re.sub('https?://\\S+|www\\.\\S+', '', text)\n",
    "#     text = re.sub('<.*?>+', '', text)\n",
    "#     text = re.sub('[%s]' % re.escape(string.punctuation), '', text)\n",
    "    text = re.sub('\\n\\n', '', text)\n",
    "    text = re.sub('\\'','', text)\n",
    "    text = re.sub('\\n', '', text)\n",
    "    text = re.sub('\\xad', '', text)\n",
    "    text = re.sub('\\u2009', '', text)\n",
    "    text = re.sub('\\xa0', '', text)\n",
    "    text = re.sub('\\ufeff', '', text)\n",
    "    text = re.sub('\\u200b', '', text)\n",
    "    \n",
    "#     text = re.sub('\\w*\\d\\w*', '', text)\n",
    "    return text"
   ]
  },
  {
   "cell_type": "code",
   "execution_count": 64,
   "id": "1c8a3763",
   "metadata": {},
   "outputs": [],
   "source": [
    "def get_html_le_temps(list_links):\n",
    "    #Count\n",
    "    extracted_articles=0 \n",
    "    for i in list_links: \n",
    "        driver.get(i)\n",
    "        html = driver.page_source\n",
    "        tail=i.split('/')[-1]\n",
    "        extracted_articles += 1\n",
    "        with open(f'/home/david/Escritorio/VACTINATION_PROJECT/HTMLs/LE_TEMPS/{tail}.txt', 'w') as f: \n",
    "            f.write(html)\n",
    "        print(f'Extracted articles: {extracted_articles} of {len(list_links)}',end='\\r')\n",
    "        time.sleep(1)"
   ]
  },
  {
   "cell_type": "code",
   "execution_count": null,
   "id": "b4e270f5",
   "metadata": {},
   "outputs": [],
   "source": []
  },
  {
   "cell_type": "code",
   "execution_count": null,
   "id": "e8fa7ac8",
   "metadata": {},
   "outputs": [],
   "source": []
  },
  {
   "cell_type": "markdown",
   "id": "3da9800a",
   "metadata": {},
   "source": [
    "## LE TEMPS"
   ]
  },
  {
   "cell_type": "code",
   "execution_count": 3,
   "id": "b5d2aeef",
   "metadata": {},
   "outputs": [
    {
     "ename": "NameError",
     "evalue": "name 'driver' is not defined",
     "output_type": "error",
     "traceback": [
      "\u001b[0;31m---------------------------------------------------------------------------\u001b[0m",
      "\u001b[0;31mNameError\u001b[0m                                 Traceback (most recent call last)",
      "\u001b[0;32m/tmp/ipykernel_18011/955612574.py\u001b[0m in \u001b[0;36m<module>\u001b[0;34m\u001b[0m\n\u001b[1;32m      2\u001b[0m \u001b[0memail\u001b[0m \u001b[0;34m=\u001b[0m \u001b[0;34m'ddbarrio@idiap.ch'\u001b[0m\u001b[0;34m\u001b[0m\u001b[0;34m\u001b[0m\u001b[0m\n\u001b[1;32m      3\u001b[0m \u001b[0mpassword\u001b[0m \u001b[0;34m=\u001b[0m \u001b[0;34m'Vaccination_Project_2021'\u001b[0m\u001b[0;34m\u001b[0m\u001b[0;34m\u001b[0m\u001b[0m\n\u001b[0;32m----> 4\u001b[0;31m \u001b[0mdriver\u001b[0m\u001b[0;34m.\u001b[0m\u001b[0mget\u001b[0m\u001b[0;34m(\u001b[0m\u001b[0msearch_url\u001b[0m\u001b[0;34m)\u001b[0m\u001b[0;34m\u001b[0m\u001b[0;34m\u001b[0m\u001b[0m\n\u001b[0m\u001b[1;32m      5\u001b[0m \u001b[0mdriver\u001b[0m\u001b[0;34m.\u001b[0m\u001b[0mmaximize_window\u001b[0m\u001b[0;34m(\u001b[0m\u001b[0;34m)\u001b[0m\u001b[0;34m\u001b[0m\u001b[0;34m\u001b[0m\u001b[0m\n\u001b[1;32m      6\u001b[0m \u001b[0mtime\u001b[0m\u001b[0;34m.\u001b[0m\u001b[0msleep\u001b[0m\u001b[0;34m(\u001b[0m\u001b[0;36m1\u001b[0m\u001b[0;34m)\u001b[0m\u001b[0;34m\u001b[0m\u001b[0;34m\u001b[0m\u001b[0m\n",
      "\u001b[0;31mNameError\u001b[0m: name 'driver' is not defined"
     ]
    }
   ],
   "source": [
    "search_url='https://www.letemps.ch/dossiers/covid19-defi-vaccination'\n",
    "\n",
    "driver.get(search_url)\n",
    "driver.maximize_window() \n",
    "time.sleep(1)\n",
    "# driver.find_element_by_id('didomi-notice-agree-button').click()"
   ]
  },
  {
   "cell_type": "code",
   "execution_count": 24,
   "id": "f2ea9dd4",
   "metadata": {},
   "outputs": [],
   "source": [
    "login()"
   ]
  },
  {
   "cell_type": "code",
   "execution_count": 11,
   "id": "17c2da16",
   "metadata": {},
   "outputs": [
    {
     "name": "stdout",
     "output_type": "stream",
     "text": [
      "No more pages left\n"
     ]
    }
   ],
   "source": [
    "# search_url='https://www.letemps.ch/dossiers/covid19-defi-vaccination'\n",
    "# list_links_vaccination_section= get_links_le_temps(search_url)"
   ]
  },
  {
   "cell_type": "code",
   "execution_count": 12,
   "id": "f2ea1c5a",
   "metadata": {},
   "outputs": [
    {
     "name": "stdout",
     "output_type": "stream",
     "text": [
      "Extracted articles: 156 of 156\r"
     ]
    }
   ],
   "source": [
    "# articles_vactination_section = get_articles_le_temps(list_links_vaccination_section)"
   ]
  },
  {
   "cell_type": "code",
   "execution_count": 13,
   "id": "1ff6db37",
   "metadata": {},
   "outputs": [],
   "source": [
    "# articles_vactination_section = pd.DataFrame.from_dict(articles_vactination_section)\n"
   ]
  },
  {
   "cell_type": "code",
   "execution_count": 69,
   "id": "2056dfad",
   "metadata": {},
   "outputs": [
    {
     "name": "stdout",
     "output_type": "stream",
     "text": [
      "No more pages left\n"
     ]
    }
   ],
   "source": [
    "# Mot clé vaccination -->url 2021\n",
    "url='https://www.letemps.ch/search?keywords=vaccine%20&section=All&sort_by=search_api_relevance&sort_order=DESC&f%5B0%5D=year%3A2021'\n",
    "list_links_vaccine_2021= get_links_le_temps(url)"
   ]
  },
  {
   "cell_type": "code",
   "execution_count": 70,
   "id": "40bb2ac2",
   "metadata": {},
   "outputs": [],
   "source": [
    "\n",
    "# Store the list in a document\n",
    "with open(\"list_links_vaccine_2021_le_temps.txt\", 'w') as f:\n",
    "    for s in list_links_vaccine_2021:\n",
    "        f.write(str(s) + '\\n')\n"
   ]
  },
  {
   "cell_type": "code",
   "execution_count": 65,
   "id": "f0e4a3ec",
   "metadata": {},
   "outputs": [
    {
     "name": "stdout",
     "output_type": "stream",
     "text": [
      "No more pages left\n"
     ]
    }
   ],
   "source": [
    "url='https://www.letemps.ch/search?keywords=vaccine&section=All&sort_by=search_api_relevance&sort_order=DESC&f%5B0%5D=year%3A2020'\n",
    "list_links_vaccine_2020 = get_links_le_temps(url)"
   ]
  },
  {
   "cell_type": "code",
   "execution_count": 67,
   "id": "be5f09ee",
   "metadata": {},
   "outputs": [],
   "source": [
    "# Store the list in a document\n",
    "with open(\"list_links_vaccine_2020_le_temps.txt\", 'w') as f:\n",
    "    for s in list_links_vaccine_2020:\n",
    "        f.write(str(s) + '\\n')\n"
   ]
  },
  {
   "cell_type": "code",
   "execution_count": 78,
   "id": "fffc59ce",
   "metadata": {},
   "outputs": [],
   "source": [
    "with open(\"list_links_vaccine_2020_le_temps.txt\", 'r') as f:\n",
    "    list_links_vaccine_2020 = [line.rstrip('\\n') for line in f]"
   ]
  },
  {
   "cell_type": "code",
   "execution_count": 79,
   "id": "2949492d",
   "metadata": {},
   "outputs": [
    {
     "data": {
      "text/plain": [
       "(1972, 760)"
      ]
     },
     "execution_count": 79,
     "metadata": {},
     "output_type": "execute_result"
    }
   ],
   "source": [
    "\n",
    "len(list_links_vaccine_2021), len(list_links_vaccine_2020)"
   ]
  },
  {
   "cell_type": "code",
   "execution_count": 83,
   "id": "78d795ad",
   "metadata": {},
   "outputs": [
    {
     "data": {
      "text/plain": [
       "2729"
      ]
     },
     "execution_count": 83,
     "metadata": {},
     "output_type": "execute_result"
    }
   ],
   "source": [
    "#CONCATENATE BOTH LISTS AND DROP DUPLICATES\n",
    "list_links_vaccine_2020.extend(list_links_vaccine_2021)\n",
    "list_le_temps=list(set(list_links_vaccine_2020))\n",
    "len(list_le_temps)"
   ]
  },
  {
   "cell_type": "code",
   "execution_count": null,
   "id": "7fa28eaf",
   "metadata": {},
   "outputs": [],
   "source": []
  },
  {
   "cell_type": "code",
   "execution_count": 84,
   "id": "989d2815",
   "metadata": {},
   "outputs": [
    {
     "name": "stdout",
     "output_type": "stream",
     "text": [
      "Extracted articles: 2729 of 2729\r"
     ]
    }
   ],
   "source": [
    "get_html_le_temps(list_le_temps)"
   ]
  },
  {
   "cell_type": "code",
   "execution_count": 3,
   "id": "a9579a87",
   "metadata": {},
   "outputs": [],
   "source": [
    "import os\n",
    "list_articles_temps=[]\n",
    "for filename in os.listdir(\"/home/david/Escritorio/VACCINATION_PROJECT/HTMLs/LE_TEMPS/\"):\n",
    "    with open(os.path.join(\"/home/david/Escritorio/VACCINATION_PROJECT/HTMLs/LE_TEMPS/\", filename), 'r') as f:\n",
    "        html_file = f.read()\n",
    "    list_text=[]\n",
    "    soup = BeautifulSoup(html_file, 'html.parser')\n",
    "    try:\n",
    "        title=soup.find(\"h1\").text.strip()\n",
    "    except: \n",
    "        title=\"error\"\n",
    "    try:\n",
    "        author=soup.find(class_='author-profile').text.strip()\n",
    "    except: \n",
    "        author = \"error\"\n",
    "    try:\n",
    "        link=soup.find('link', rel='canonical')['href']\n",
    "    except: \n",
    "        link=\"error\"\n",
    "    try:\n",
    "        subheadline= soup.find(class_=\"lead\").text.strip()\n",
    "    except: \n",
    "        subheadline=\"error\"\n",
    "    try:\n",
    "        date= soup.find(class_=\"date\").text.strip()\n",
    "    except: \n",
    "        date=\"error\"\n",
    "    tweets = soup.findAll('div', class_=\"article-media twitter\")\n",
    "    for tweet in tweets:\n",
    "        tweet.decompose()\n",
    "    try:\n",
    "       \n",
    "        tf=soup.find(\"span\",class_=\"link-wrapper-hovercard\").decompose()\n",
    "        tf=soup.find(class_=\"body_content\").find_all(\"p\")\n",
    "        for p in tf:\n",
    "            list_text.append(p.get_text().strip())\n",
    "        text=' '.join(list_text).strip()\n",
    "    except: \n",
    "        text= \"error\"\n",
    "    list_articles_temps.append({'Title': title, \n",
    "                          'Subheadline':subheadline,\n",
    "                          'Text':text,\n",
    "                          'Authors': author, \n",
    "                          'Date': date,\n",
    "                          'Link':link}) \n"
   ]
  },
  {
   "cell_type": "code",
   "execution_count": 4,
   "id": "a9d1cdb1",
   "metadata": {},
   "outputs": [],
   "source": [
    "articles_le_temps_all = pd.DataFrame.from_dict(list_articles_temps)"
   ]
  },
  {
   "cell_type": "code",
   "execution_count": 5,
   "id": "23a60110",
   "metadata": {},
   "outputs": [
    {
     "data": {
      "text/html": [
       "<div>\n",
       "<style scoped>\n",
       "    .dataframe tbody tr th:only-of-type {\n",
       "        vertical-align: middle;\n",
       "    }\n",
       "\n",
       "    .dataframe tbody tr th {\n",
       "        vertical-align: top;\n",
       "    }\n",
       "\n",
       "    .dataframe thead th {\n",
       "        text-align: right;\n",
       "    }\n",
       "</style>\n",
       "<table border=\"1\" class=\"dataframe\">\n",
       "  <thead>\n",
       "    <tr style=\"text-align: right;\">\n",
       "      <th></th>\n",
       "      <th>Title</th>\n",
       "      <th>Subheadline</th>\n",
       "      <th>Text</th>\n",
       "      <th>Authors</th>\n",
       "      <th>Date</th>\n",
       "      <th>Link</th>\n",
       "    </tr>\n",
       "  </thead>\n",
       "  <tbody>\n",
       "    <tr>\n",
       "      <th>2142</th>\n",
       "      <td>Plus 17 000 nouveaux cas en trois jours, Alain...</td>\n",
       "      <td>La Suisse compte lundi 17 440 cas supplémentai...</td>\n",
       "      <td>L’augmentation rapide du nombre de cas se pour...</td>\n",
       "      <td>Le Temps avec les agences</td>\n",
       "      <td>Publié lundi 26 octobre 2020 à 15:24\\n\\t\\t    ...</td>\n",
       "      <td>https://www.letemps.ch/monde/plus-17-000-nouve...</td>\n",
       "    </tr>\n",
       "  </tbody>\n",
       "</table>\n",
       "</div>"
      ],
      "text/plain": [
       "                                                  Title  \\\n",
       "2142  Plus 17 000 nouveaux cas en trois jours, Alain...   \n",
       "\n",
       "                                            Subheadline  \\\n",
       "2142  La Suisse compte lundi 17 440 cas supplémentai...   \n",
       "\n",
       "                                                   Text  \\\n",
       "2142  L’augmentation rapide du nombre de cas se pour...   \n",
       "\n",
       "                        Authors  \\\n",
       "2142  Le Temps avec les agences   \n",
       "\n",
       "                                                   Date  \\\n",
       "2142  Publié lundi 26 octobre 2020 à 15:24\\n\\t\\t    ...   \n",
       "\n",
       "                                                   Link  \n",
       "2142  https://www.letemps.ch/monde/plus-17-000-nouve...  "
      ]
     },
     "execution_count": 5,
     "metadata": {},
     "output_type": "execute_result"
    }
   ],
   "source": [
    "articles_le_temps_all[articles_le_temps_all['Text'].str.contains(\"pic.t\")]\n"
   ]
  },
  {
   "cell_type": "markdown",
   "id": "d5e4665c",
   "metadata": {},
   "source": [
    "## CLEAN  DATAFRAME "
   ]
  },
  {
   "cell_type": "code",
   "execution_count": 6,
   "id": "70ecce55",
   "metadata": {},
   "outputs": [
    {
     "data": {
      "text/html": [
       "<div>\n",
       "<style scoped>\n",
       "    .dataframe tbody tr th:only-of-type {\n",
       "        vertical-align: middle;\n",
       "    }\n",
       "\n",
       "    .dataframe tbody tr th {\n",
       "        vertical-align: top;\n",
       "    }\n",
       "\n",
       "    .dataframe thead th {\n",
       "        text-align: right;\n",
       "    }\n",
       "</style>\n",
       "<table border=\"1\" class=\"dataframe\">\n",
       "  <thead>\n",
       "    <tr style=\"text-align: right;\">\n",
       "      <th></th>\n",
       "      <th>Title</th>\n",
       "      <th>Subheadline</th>\n",
       "      <th>Text</th>\n",
       "      <th>Authors</th>\n",
       "      <th>Date</th>\n",
       "      <th>Link</th>\n",
       "    </tr>\n",
       "  </thead>\n",
       "  <tbody>\n",
       "    <tr>\n",
       "      <th>0</th>\n",
       "      <td>L’Union européenne prudente sur la Russie et l...</td>\n",
       "      <td>Réunis en visioconférence jeudi soir, les diri...</td>\n",
       "      <td>Diplomatie des petits pas… ou procrastination?...</td>\n",
       "      <td>Solenn Paulic, Bruxelles</td>\n",
       "      <td>Publié vendredi 26 mars 2021 à 18:59\\n\\t\\t    ...</td>\n",
       "      <td>https://www.letemps.ch/monde/lunion-europeenne...</td>\n",
       "    </tr>\n",
       "    <tr>\n",
       "      <th>1</th>\n",
       "      <td>Vaccins : un peu de gratitude, s’il vous plaît !</td>\n",
       "      <td>error</td>\n",
       "      <td>error</td>\n",
       "      <td>error</td>\n",
       "      <td>error</td>\n",
       "      <td>https://blogs.letemps.ch/christian-jacot-desco...</td>\n",
       "    </tr>\n",
       "    <tr>\n",
       "      <th>2</th>\n",
       "      <td>Quatre vaccins «Made in France» en sous-traita...</td>\n",
       "      <td>La France annonce la fabrication de quatre vac...</td>\n",
       "      <td>error</td>\n",
       "      <td>Le Temps avec les agences</td>\n",
       "      <td>Publié lundi 5 avril 2021 à 09:42\\n\\t\\t    Mod...</td>\n",
       "      <td>https://www.letemps.ch/monde/quatre-vaccins-ma...</td>\n",
       "    </tr>\n",
       "    <tr>\n",
       "      <th>3</th>\n",
       "      <td>Le G7 et la crise: pourquoi si tard? Et le G20?</td>\n",
       "      <td>OPINION. Si les Etats-Unis ne mettent pas à di...</td>\n",
       "      <td>La mondialisation est mise en cause par la pan...</td>\n",
       "      <td>François Nordmann</td>\n",
       "      <td>Publié mardi 17 mars 2020 à 10:02\\n\\t\\t    Mod...</td>\n",
       "      <td>https://www.letemps.ch/opinions/g7-crise-tard-g20</td>\n",
       "    </tr>\n",
       "    <tr>\n",
       "      <th>4</th>\n",
       "      <td>Un fonds contre le coronavirus lancé via Genève</td>\n",
       "      <td>Une fondation genevoise recevra des dons pour ...</td>\n",
       "      <td>L’Organisation mondiale de la santé (OMS) a ch...</td>\n",
       "      <td>Sébastien Ruche</td>\n",
       "      <td>Publié lundi 23 mars 2020 à 19:20\\n\\t\\t    Mod...</td>\n",
       "      <td>https://www.letemps.ch/economie/un-fonds-contr...</td>\n",
       "    </tr>\n",
       "    <tr>\n",
       "      <th>...</th>\n",
       "      <td>...</td>\n",
       "      <td>...</td>\n",
       "      <td>...</td>\n",
       "      <td>...</td>\n",
       "      <td>...</td>\n",
       "      <td>...</td>\n",
       "    </tr>\n",
       "    <tr>\n",
       "      <th>2722</th>\n",
       "      <td>Et si on vaccinait les animaux pour lutter con...</td>\n",
       "      <td>Pour prévenir les zoonoses, ces maladies issue...</td>\n",
       "      <td>Avec son million et demi de morts, la pandémie...</td>\n",
       "      <td>Romain Raynaldy</td>\n",
       "      <td>Publié mercredi 16 décembre 2020 à 15:59\\n\\t\\t...</td>\n",
       "      <td>https://www.letemps.ch/sciences/on-vaccinait-a...</td>\n",
       "    </tr>\n",
       "    <tr>\n",
       "      <th>2723</th>\n",
       "      <td>Moderna annonce que son vaccin est efficace à ...</td>\n",
       "      <td>La biotech américaine indique aussi que sa sol...</td>\n",
       "      <td>C’est un nouveau résultat prometteur sur le fr...</td>\n",
       "      <td>Richard Etienne</td>\n",
       "      <td>Publié mardi 17 novembre 2020 à 04:00\\n\\t\\t   ...</td>\n",
       "      <td>https://www.letemps.ch/economie/moderna-annonc...</td>\n",
       "    </tr>\n",
       "    <tr>\n",
       "      <th>2724</th>\n",
       "      <td>Hérauts de la vaccination, cessez le feu!</td>\n",
       "      <td>OPINION. Ce n’est pas l’agacement de M. Philip...</td>\n",
       "      <td>Par le biais d’une chronique publiée le 5 juil...</td>\n",
       "      <td>Antoine Gallay, historien</td>\n",
       "      <td>Publié vendredi 9 juillet 2021 à 20:59\\n\\t\\t  ...</td>\n",
       "      <td>https://www.letemps.ch/opinions/herauts-vaccin...</td>\n",
       "    </tr>\n",
       "    <tr>\n",
       "      <th>2725</th>\n",
       "      <td>Verena Nold: «En Suisse, nous payons les médic...</td>\n",
       "      <td>Verena Nold, directrice de santésuisse, a répo...</td>\n",
       "      <td>error</td>\n",
       "      <td>Cédric Garrofé</td>\n",
       "      <td>Publié jeudi 23 septembre 2021 à 13:49\\n\\t\\t  ...</td>\n",
       "      <td>https://www.letemps.ch/evenements/verena-nold-...</td>\n",
       "    </tr>\n",
       "    <tr>\n",
       "      <th>2726</th>\n",
       "      <td>«Passeport covid», un accouchement dans l’urgence</td>\n",
       "      <td>L’Office fédéral de la santé publique (OFSP) p...</td>\n",
       "      <td>L’administration fédérale se réveille enfin à ...</td>\n",
       "      <td>Michel Guillaume</td>\n",
       "      <td>Publié mercredi 24 mars 2021 à 19:37\\n\\t\\t    ...</td>\n",
       "      <td>https://www.letemps.ch/suisse/passeport-covid-...</td>\n",
       "    </tr>\n",
       "  </tbody>\n",
       "</table>\n",
       "<p>2727 rows × 6 columns</p>\n",
       "</div>"
      ],
      "text/plain": [
       "                                                  Title  \\\n",
       "0     L’Union européenne prudente sur la Russie et l...   \n",
       "1      Vaccins : un peu de gratitude, s’il vous plaît !   \n",
       "2     Quatre vaccins «Made in France» en sous-traita...   \n",
       "3       Le G7 et la crise: pourquoi si tard? Et le G20?   \n",
       "4       Un fonds contre le coronavirus lancé via Genève   \n",
       "...                                                 ...   \n",
       "2722  Et si on vaccinait les animaux pour lutter con...   \n",
       "2723  Moderna annonce que son vaccin est efficace à ...   \n",
       "2724          Hérauts de la vaccination, cessez le feu!   \n",
       "2725  Verena Nold: «En Suisse, nous payons les médic...   \n",
       "2726  «Passeport covid», un accouchement dans l’urgence   \n",
       "\n",
       "                                            Subheadline  \\\n",
       "0     Réunis en visioconférence jeudi soir, les diri...   \n",
       "1                                                 error   \n",
       "2     La France annonce la fabrication de quatre vac...   \n",
       "3     OPINION. Si les Etats-Unis ne mettent pas à di...   \n",
       "4     Une fondation genevoise recevra des dons pour ...   \n",
       "...                                                 ...   \n",
       "2722  Pour prévenir les zoonoses, ces maladies issue...   \n",
       "2723  La biotech américaine indique aussi que sa sol...   \n",
       "2724  OPINION. Ce n’est pas l’agacement de M. Philip...   \n",
       "2725  Verena Nold, directrice de santésuisse, a répo...   \n",
       "2726  L’Office fédéral de la santé publique (OFSP) p...   \n",
       "\n",
       "                                                   Text  \\\n",
       "0     Diplomatie des petits pas… ou procrastination?...   \n",
       "1                                                 error   \n",
       "2                                                 error   \n",
       "3     La mondialisation est mise en cause par la pan...   \n",
       "4     L’Organisation mondiale de la santé (OMS) a ch...   \n",
       "...                                                 ...   \n",
       "2722  Avec son million et demi de morts, la pandémie...   \n",
       "2723  C’est un nouveau résultat prometteur sur le fr...   \n",
       "2724  Par le biais d’une chronique publiée le 5 juil...   \n",
       "2725                                              error   \n",
       "2726  L’administration fédérale se réveille enfin à ...   \n",
       "\n",
       "                        Authors  \\\n",
       "0      Solenn Paulic, Bruxelles   \n",
       "1                         error   \n",
       "2     Le Temps avec les agences   \n",
       "3             François Nordmann   \n",
       "4               Sébastien Ruche   \n",
       "...                         ...   \n",
       "2722            Romain Raynaldy   \n",
       "2723            Richard Etienne   \n",
       "2724  Antoine Gallay, historien   \n",
       "2725             Cédric Garrofé   \n",
       "2726           Michel Guillaume   \n",
       "\n",
       "                                                   Date  \\\n",
       "0     Publié vendredi 26 mars 2021 à 18:59\\n\\t\\t    ...   \n",
       "1                                                 error   \n",
       "2     Publié lundi 5 avril 2021 à 09:42\\n\\t\\t    Mod...   \n",
       "3     Publié mardi 17 mars 2020 à 10:02\\n\\t\\t    Mod...   \n",
       "4     Publié lundi 23 mars 2020 à 19:20\\n\\t\\t    Mod...   \n",
       "...                                                 ...   \n",
       "2722  Publié mercredi 16 décembre 2020 à 15:59\\n\\t\\t...   \n",
       "2723  Publié mardi 17 novembre 2020 à 04:00\\n\\t\\t   ...   \n",
       "2724  Publié vendredi 9 juillet 2021 à 20:59\\n\\t\\t  ...   \n",
       "2725  Publié jeudi 23 septembre 2021 à 13:49\\n\\t\\t  ...   \n",
       "2726  Publié mercredi 24 mars 2021 à 19:37\\n\\t\\t    ...   \n",
       "\n",
       "                                                   Link  \n",
       "0     https://www.letemps.ch/monde/lunion-europeenne...  \n",
       "1     https://blogs.letemps.ch/christian-jacot-desco...  \n",
       "2     https://www.letemps.ch/monde/quatre-vaccins-ma...  \n",
       "3     https://www.letemps.ch/opinions/g7-crise-tard-g20  \n",
       "4     https://www.letemps.ch/economie/un-fonds-contr...  \n",
       "...                                                 ...  \n",
       "2722  https://www.letemps.ch/sciences/on-vaccinait-a...  \n",
       "2723  https://www.letemps.ch/economie/moderna-annonc...  \n",
       "2724  https://www.letemps.ch/opinions/herauts-vaccin...  \n",
       "2725  https://www.letemps.ch/evenements/verena-nold-...  \n",
       "2726  https://www.letemps.ch/suisse/passeport-covid-...  \n",
       "\n",
       "[2727 rows x 6 columns]"
      ]
     },
     "execution_count": 6,
     "metadata": {},
     "output_type": "execute_result"
    }
   ],
   "source": [
    "articles_le_temps_all"
   ]
  },
  {
   "cell_type": "code",
   "execution_count": 7,
   "id": "0985e02b",
   "metadata": {},
   "outputs": [
    {
     "name": "stderr",
     "output_type": "stream",
     "text": [
      "/home/david/anaconda3/lib/python3.9/site-packages/dateparser/date_parser.py:35: PytzUsageWarning: The localize method is no longer necessary, as this time zone supports the fold attribute (PEP 495). For more details on migrating to a PEP 495-compliant implementation, see https://pytz-deprecation-shim.readthedocs.io/en/latest/migration.html\n",
      "  date_obj = stz.localize(date_obj)\n"
     ]
    }
   ],
   "source": [
    "# DATE\n",
    "for index,row in articles_le_temps_all.iterrows(): \n",
    "    try:\n",
    "        articles_le_temps_all['Date'][index] =dateparser.parse(\" \".join(articles_le_temps_all['Date'][index].split()[2:5])).date()\n",
    "    except: \n",
    "        continue"
   ]
  },
  {
   "cell_type": "code",
   "execution_count": 8,
   "id": "2d47db31",
   "metadata": {},
   "outputs": [],
   "source": [
    "articles_le_temps_all['Text']=articles_le_temps_all['Text'].apply(preprocessor)\n",
    "articles_le_temps_all['Title']=articles_le_temps_all['Title'].apply(preprocessor)\n",
    "articles_le_temps_all['n_words'] = articles_le_temps_all.Text.apply(lambda x: len(str(x).split(' ')))\n",
    "articles_le_temps_all['Newspaper']= 'Le Temps'\n",
    "articles_le_temps_all['Country']= 'Switzerland'"
   ]
  },
  {
   "cell_type": "code",
   "execution_count": 9,
   "id": "8f8316ab",
   "metadata": {},
   "outputs": [],
   "source": [
    "articles_le_temps_all=articles_le_temps_all.drop_duplicates()\n",
    "articles_le_temps_all=articles_le_temps_all[articles_le_temps_all.Text.str.contains(\"vacc|Vacc\")|articles_le_temps_all.Subheadline.str.contains(\"vacc|Vacc\")|articles_le_temps_all.Title.str.contains(\"vacc|Vacc\")]\n",
    "articles_le_temps_all=articles_le_temps_all[~articles_le_temps_all.Date.isna()]\n",
    "articles_le_temps_all=articles_le_temps_all.drop(articles_le_temps_all[articles_le_temps_all['Text']==\"error\"].index, inplace=False)\n"
   ]
  },
  {
   "cell_type": "code",
   "execution_count": 10,
   "id": "51cbc0c7",
   "metadata": {},
   "outputs": [
    {
     "data": {
      "text/html": [
       "<div>\n",
       "<style scoped>\n",
       "    .dataframe tbody tr th:only-of-type {\n",
       "        vertical-align: middle;\n",
       "    }\n",
       "\n",
       "    .dataframe tbody tr th {\n",
       "        vertical-align: top;\n",
       "    }\n",
       "\n",
       "    .dataframe thead th {\n",
       "        text-align: right;\n",
       "    }\n",
       "</style>\n",
       "<table border=\"1\" class=\"dataframe\">\n",
       "  <thead>\n",
       "    <tr style=\"text-align: right;\">\n",
       "      <th></th>\n",
       "      <th>Title</th>\n",
       "      <th>Subheadline</th>\n",
       "      <th>Text</th>\n",
       "      <th>Authors</th>\n",
       "      <th>Date</th>\n",
       "      <th>Link</th>\n",
       "      <th>n_words</th>\n",
       "      <th>Newspaper</th>\n",
       "      <th>Country</th>\n",
       "    </tr>\n",
       "  </thead>\n",
       "  <tbody>\n",
       "    <tr>\n",
       "      <th>994</th>\n",
       "      <td>Taïwan, cette Chine qui vote</td>\n",
       "      <td>La contestation à Hongkong électrise le climat...</td>\n",
       "      <td>«Ce n’est pas un scrutin contre le Kuomintang»...</td>\n",
       "      <td>Anne-Sophie Labadie, envoyée spéciale à Taipei</td>\n",
       "      <td>2020-01-07</td>\n",
       "      <td>https://www.letemps.ch/monde/taiwan-cette-chin...</td>\n",
       "      <td>1333</td>\n",
       "      <td>Le Temps</td>\n",
       "      <td>Switzerland</td>\n",
       "    </tr>\n",
       "    <tr>\n",
       "      <th>2195</th>\n",
       "      <td>Alain Berset estime que la Suisse est bien pré...</td>\n",
       "      <td>En marge du WEF à Davos, le ministre de la San...</td>\n",
       "      <td>«Nous sommes très bien préparés». Le conseille...</td>\n",
       "      <td>ATS</td>\n",
       "      <td>2020-01-22</td>\n",
       "      <td>https://www.letemps.ch/suisse/alain-berset-est...</td>\n",
       "      <td>592</td>\n",
       "      <td>Le Temps</td>\n",
       "      <td>Switzerland</td>\n",
       "    </tr>\n",
       "    <tr>\n",
       "      <th>1800</th>\n",
       "      <td>Comment la blockchain peut transformer la sant...</td>\n",
       "      <td>La technologie des registres distribués permet...</td>\n",
       "      <td>La blockchain, ce n’est pas seulement le bitco...</td>\n",
       "      <td>Sébastien Ruche</td>\n",
       "      <td>2020-01-22</td>\n",
       "      <td>https://www.letemps.ch/economie/blockchain-tra...</td>\n",
       "      <td>494</td>\n",
       "      <td>Le Temps</td>\n",
       "      <td>Switzerland</td>\n",
       "    </tr>\n",
       "    <tr>\n",
       "      <th>2655</th>\n",
       "      <td>Ute Ströher, la discrète scientifique qui a dé...</td>\n",
       "      <td>La chercheuse allemande, discrète mais très po...</td>\n",
       "      <td>Sur internet, son empreinte digitale ne livre ...</td>\n",
       "      <td>Stéphane Bussard</td>\n",
       "      <td>2020-01-23</td>\n",
       "      <td>https://www.letemps.ch/monde/ute-stroher-discr...</td>\n",
       "      <td>954</td>\n",
       "      <td>Le Temps</td>\n",
       "      <td>Switzerland</td>\n",
       "    </tr>\n",
       "    <tr>\n",
       "      <th>2706</th>\n",
       "      <td>Leo Poon: «Il sagit dun virus particulièrement...</td>\n",
       "      <td>Alors que le bilan du 2019-nCoV, un coronaviru...</td>\n",
       "      <td>Professeur de santé publique à l’Université de...</td>\n",
       "      <td>Julie Zaugg, Hong Kong</td>\n",
       "      <td>2020-01-23</td>\n",
       "      <td>https://www.letemps.ch/monde/leo-poon-sagit-du...</td>\n",
       "      <td>741</td>\n",
       "      <td>Le Temps</td>\n",
       "      <td>Switzerland</td>\n",
       "    </tr>\n",
       "    <tr>\n",
       "      <th>...</th>\n",
       "      <td>...</td>\n",
       "      <td>...</td>\n",
       "      <td>...</td>\n",
       "      <td>...</td>\n",
       "      <td>...</td>\n",
       "      <td>...</td>\n",
       "      <td>...</td>\n",
       "      <td>...</td>\n",
       "      <td>...</td>\n",
       "    </tr>\n",
       "    <tr>\n",
       "      <th>2495</th>\n",
       "      <td>Une pénurie de 2 milliards de seringues se pro...</td>\n",
       "      <td>L’Organisation mondiale de la santé prend les ...</td>\n",
       "      <td>C’est le phénomène auquel peu de monde avait s...</td>\n",
       "      <td>Stéphane Bussard</td>\n",
       "      <td>2021-11-09</td>\n",
       "      <td>https://www.letemps.ch/monde/une-penurie-2-mil...</td>\n",
       "      <td>639</td>\n",
       "      <td>Le Temps</td>\n",
       "      <td>Switzerland</td>\n",
       "    </tr>\n",
       "    <tr>\n",
       "      <th>1802</th>\n",
       "      <td>Les anti-vaccin ont-ils vraiment saboté un con...</td>\n",
       "      <td>Mardi soir, un concert organisé dans le cadre ...</td>\n",
       "      <td>Les rumeurs vont bon train. Le concert Back on...</td>\n",
       "      <td>Fanny Scuderi</td>\n",
       "      <td>2021-11-10</td>\n",
       "      <td>https://www.letemps.ch/suisse/antivaccin-ontil...</td>\n",
       "      <td>793</td>\n",
       "      <td>Le Temps</td>\n",
       "      <td>Switzerland</td>\n",
       "    </tr>\n",
       "    <tr>\n",
       "      <th>2104</th>\n",
       "      <td>New York est impatiente de voir son flot de to...</td>\n",
       "      <td>La ville espère accueillir 35 millions de visi...</td>\n",
       "      <td>«New York is back». Restrictions liées au covi...</td>\n",
       "      <td>Valérie de Graffenried</td>\n",
       "      <td>2021-11-10</td>\n",
       "      <td>https://www.letemps.ch/monde/new-york-impatien...</td>\n",
       "      <td>768</td>\n",
       "      <td>Le Temps</td>\n",
       "      <td>Switzerland</td>\n",
       "    </tr>\n",
       "    <tr>\n",
       "      <th>400</th>\n",
       "      <td>[En continu] «Vacciné ou guéri»: la règle autr...</td>\n",
       "      <td>La Suisse compte plus de 4000 cas de plus en 2...</td>\n",
       "      <td>Selon un sondage effectué par le site Comparis...</td>\n",
       "      <td>Le Temps avec les agences et les réseaux</td>\n",
       "      <td>2021-11-10</td>\n",
       "      <td>https://www.letemps.ch/monde/continu-vaccine-g...</td>\n",
       "      <td>1206</td>\n",
       "      <td>Le Temps</td>\n",
       "      <td>Switzerland</td>\n",
       "    </tr>\n",
       "    <tr>\n",
       "      <th>2082</th>\n",
       "      <td>Le centre droit, terre de réélection pour Emma...</td>\n",
       "      <td>Le président français a, de fait, lancé mardi ...</td>\n",
       "      <td>Inutile de redonner ici, dans le détail, les p...</td>\n",
       "      <td>Richard Werly</td>\n",
       "      <td>2021-11-10</td>\n",
       "      <td>https://www.letemps.ch/monde/centre-droit-terr...</td>\n",
       "      <td>813</td>\n",
       "      <td>Le Temps</td>\n",
       "      <td>Switzerland</td>\n",
       "    </tr>\n",
       "  </tbody>\n",
       "</table>\n",
       "<p>2415 rows × 9 columns</p>\n",
       "</div>"
      ],
      "text/plain": [
       "                                                  Title  \\\n",
       "994                        Taïwan, cette Chine qui vote   \n",
       "2195  Alain Berset estime que la Suisse est bien pré...   \n",
       "1800  Comment la blockchain peut transformer la sant...   \n",
       "2655  Ute Ströher, la discrète scientifique qui a dé...   \n",
       "2706  Leo Poon: «Il sagit dun virus particulièrement...   \n",
       "...                                                 ...   \n",
       "2495  Une pénurie de 2 milliards de seringues se pro...   \n",
       "1802  Les anti-vaccin ont-ils vraiment saboté un con...   \n",
       "2104  New York est impatiente de voir son flot de to...   \n",
       "400   [En continu] «Vacciné ou guéri»: la règle autr...   \n",
       "2082  Le centre droit, terre de réélection pour Emma...   \n",
       "\n",
       "                                            Subheadline  \\\n",
       "994   La contestation à Hongkong électrise le climat...   \n",
       "2195  En marge du WEF à Davos, le ministre de la San...   \n",
       "1800  La technologie des registres distribués permet...   \n",
       "2655  La chercheuse allemande, discrète mais très po...   \n",
       "2706  Alors que le bilan du 2019-nCoV, un coronaviru...   \n",
       "...                                                 ...   \n",
       "2495  L’Organisation mondiale de la santé prend les ...   \n",
       "1802  Mardi soir, un concert organisé dans le cadre ...   \n",
       "2104  La ville espère accueillir 35 millions de visi...   \n",
       "400   La Suisse compte plus de 4000 cas de plus en 2...   \n",
       "2082  Le président français a, de fait, lancé mardi ...   \n",
       "\n",
       "                                                   Text  \\\n",
       "994   «Ce n’est pas un scrutin contre le Kuomintang»...   \n",
       "2195  «Nous sommes très bien préparés». Le conseille...   \n",
       "1800  La blockchain, ce n’est pas seulement le bitco...   \n",
       "2655  Sur internet, son empreinte digitale ne livre ...   \n",
       "2706  Professeur de santé publique à l’Université de...   \n",
       "...                                                 ...   \n",
       "2495  C’est le phénomène auquel peu de monde avait s...   \n",
       "1802  Les rumeurs vont bon train. Le concert Back on...   \n",
       "2104  «New York is back». Restrictions liées au covi...   \n",
       "400   Selon un sondage effectué par le site Comparis...   \n",
       "2082  Inutile de redonner ici, dans le détail, les p...   \n",
       "\n",
       "                                             Authors        Date  \\\n",
       "994   Anne-Sophie Labadie, envoyée spéciale à Taipei  2020-01-07   \n",
       "2195                                             ATS  2020-01-22   \n",
       "1800                                 Sébastien Ruche  2020-01-22   \n",
       "2655                                Stéphane Bussard  2020-01-23   \n",
       "2706                          Julie Zaugg, Hong Kong  2020-01-23   \n",
       "...                                              ...         ...   \n",
       "2495                                Stéphane Bussard  2021-11-09   \n",
       "1802                                   Fanny Scuderi  2021-11-10   \n",
       "2104                          Valérie de Graffenried  2021-11-10   \n",
       "400         Le Temps avec les agences et les réseaux  2021-11-10   \n",
       "2082                                   Richard Werly  2021-11-10   \n",
       "\n",
       "                                                   Link  n_words Newspaper  \\\n",
       "994   https://www.letemps.ch/monde/taiwan-cette-chin...     1333  Le Temps   \n",
       "2195  https://www.letemps.ch/suisse/alain-berset-est...      592  Le Temps   \n",
       "1800  https://www.letemps.ch/economie/blockchain-tra...      494  Le Temps   \n",
       "2655  https://www.letemps.ch/monde/ute-stroher-discr...      954  Le Temps   \n",
       "2706  https://www.letemps.ch/monde/leo-poon-sagit-du...      741  Le Temps   \n",
       "...                                                 ...      ...       ...   \n",
       "2495  https://www.letemps.ch/monde/une-penurie-2-mil...      639  Le Temps   \n",
       "1802  https://www.letemps.ch/suisse/antivaccin-ontil...      793  Le Temps   \n",
       "2104  https://www.letemps.ch/monde/new-york-impatien...      768  Le Temps   \n",
       "400   https://www.letemps.ch/monde/continu-vaccine-g...     1206  Le Temps   \n",
       "2082  https://www.letemps.ch/monde/centre-droit-terr...      813  Le Temps   \n",
       "\n",
       "          Country  \n",
       "994   Switzerland  \n",
       "2195  Switzerland  \n",
       "1800  Switzerland  \n",
       "2655  Switzerland  \n",
       "2706  Switzerland  \n",
       "...           ...  \n",
       "2495  Switzerland  \n",
       "1802  Switzerland  \n",
       "2104  Switzerland  \n",
       "400   Switzerland  \n",
       "2082  Switzerland  \n",
       "\n",
       "[2415 rows x 9 columns]"
      ]
     },
     "execution_count": 10,
     "metadata": {},
     "output_type": "execute_result"
    }
   ],
   "source": [
    "articles_le_temps_all.sort_values('Date')"
   ]
  },
  {
   "cell_type": "code",
   "execution_count": 11,
   "id": "471a0115",
   "metadata": {},
   "outputs": [],
   "source": [
    "articles_le_temps_all.to_csv(r'/home/david/Escritorio/VACCINATION_PROJECT/DF_HTML_VERSION/articles_le_temps_16_11_2021_premium.csv', index = False)"
   ]
  },
  {
   "cell_type": "code",
   "execution_count": 21,
   "id": "73de2a98",
   "metadata": {},
   "outputs": [],
   "source": [
    "****************************************************"
   ]
  },
  {
   "cell_type": "code",
   "execution_count": 12,
   "id": "88075407",
   "metadata": {},
   "outputs": [],
   "source": [
    "df= pd.read_csv('/home/david/Escritorio/VACCINATION_PROJECT/DF_HTML_VERSION/articles_le_temps_16_11_2021_premium.csv')"
   ]
  },
  {
   "cell_type": "code",
   "execution_count": 13,
   "id": "c7a2c6ed",
   "metadata": {},
   "outputs": [
    {
     "data": {
      "text/html": [
       "<div>\n",
       "<style scoped>\n",
       "    .dataframe tbody tr th:only-of-type {\n",
       "        vertical-align: middle;\n",
       "    }\n",
       "\n",
       "    .dataframe tbody tr th {\n",
       "        vertical-align: top;\n",
       "    }\n",
       "\n",
       "    .dataframe thead th {\n",
       "        text-align: right;\n",
       "    }\n",
       "</style>\n",
       "<table border=\"1\" class=\"dataframe\">\n",
       "  <thead>\n",
       "    <tr style=\"text-align: right;\">\n",
       "      <th></th>\n",
       "      <th>Title</th>\n",
       "      <th>Subheadline</th>\n",
       "      <th>Text</th>\n",
       "      <th>Authors</th>\n",
       "      <th>Date</th>\n",
       "      <th>Link</th>\n",
       "      <th>n_words</th>\n",
       "      <th>Newspaper</th>\n",
       "      <th>Country</th>\n",
       "    </tr>\n",
       "  </thead>\n",
       "  <tbody>\n",
       "    <tr>\n",
       "      <th>876</th>\n",
       "      <td>Taïwan, cette Chine qui vote</td>\n",
       "      <td>La contestation à Hongkong électrise le climat...</td>\n",
       "      <td>«Ce n’est pas un scrutin contre le Kuomintang»...</td>\n",
       "      <td>Anne-Sophie Labadie, envoyée spéciale à Taipei</td>\n",
       "      <td>2020-01-07</td>\n",
       "      <td>https://www.letemps.ch/monde/taiwan-cette-chin...</td>\n",
       "      <td>1333</td>\n",
       "      <td>Le Temps</td>\n",
       "      <td>Switzerland</td>\n",
       "    </tr>\n",
       "    <tr>\n",
       "      <th>1955</th>\n",
       "      <td>Alain Berset estime que la Suisse est bien pré...</td>\n",
       "      <td>En marge du WEF à Davos, le ministre de la San...</td>\n",
       "      <td>«Nous sommes très bien préparés». Le conseille...</td>\n",
       "      <td>ATS</td>\n",
       "      <td>2020-01-22</td>\n",
       "      <td>https://www.letemps.ch/suisse/alain-berset-est...</td>\n",
       "      <td>592</td>\n",
       "      <td>Le Temps</td>\n",
       "      <td>Switzerland</td>\n",
       "    </tr>\n",
       "    <tr>\n",
       "      <th>1600</th>\n",
       "      <td>Comment la blockchain peut transformer la sant...</td>\n",
       "      <td>La technologie des registres distribués permet...</td>\n",
       "      <td>La blockchain, ce n’est pas seulement le bitco...</td>\n",
       "      <td>Sébastien Ruche</td>\n",
       "      <td>2020-01-22</td>\n",
       "      <td>https://www.letemps.ch/economie/blockchain-tra...</td>\n",
       "      <td>494</td>\n",
       "      <td>Le Temps</td>\n",
       "      <td>Switzerland</td>\n",
       "    </tr>\n",
       "    <tr>\n",
       "      <th>2349</th>\n",
       "      <td>Ute Ströher, la discrète scientifique qui a dé...</td>\n",
       "      <td>La chercheuse allemande, discrète mais très po...</td>\n",
       "      <td>Sur internet, son empreinte digitale ne livre ...</td>\n",
       "      <td>Stéphane Bussard</td>\n",
       "      <td>2020-01-23</td>\n",
       "      <td>https://www.letemps.ch/monde/ute-stroher-discr...</td>\n",
       "      <td>954</td>\n",
       "      <td>Le Temps</td>\n",
       "      <td>Switzerland</td>\n",
       "    </tr>\n",
       "    <tr>\n",
       "      <th>2395</th>\n",
       "      <td>Leo Poon: «Il sagit dun virus particulièrement...</td>\n",
       "      <td>Alors que le bilan du 2019-nCoV, un coronaviru...</td>\n",
       "      <td>Professeur de santé publique à l’Université de...</td>\n",
       "      <td>Julie Zaugg, Hong Kong</td>\n",
       "      <td>2020-01-23</td>\n",
       "      <td>https://www.letemps.ch/monde/leo-poon-sagit-du...</td>\n",
       "      <td>741</td>\n",
       "      <td>Le Temps</td>\n",
       "      <td>Switzerland</td>\n",
       "    </tr>\n",
       "    <tr>\n",
       "      <th>...</th>\n",
       "      <td>...</td>\n",
       "      <td>...</td>\n",
       "      <td>...</td>\n",
       "      <td>...</td>\n",
       "      <td>...</td>\n",
       "      <td>...</td>\n",
       "      <td>...</td>\n",
       "      <td>...</td>\n",
       "      <td>...</td>\n",
       "    </tr>\n",
       "    <tr>\n",
       "      <th>2214</th>\n",
       "      <td>Une pénurie de 2 milliards de seringues se pro...</td>\n",
       "      <td>L’Organisation mondiale de la santé prend les ...</td>\n",
       "      <td>C’est le phénomène auquel peu de monde avait s...</td>\n",
       "      <td>Stéphane Bussard</td>\n",
       "      <td>2021-11-09</td>\n",
       "      <td>https://www.letemps.ch/monde/une-penurie-2-mil...</td>\n",
       "      <td>639</td>\n",
       "      <td>Le Temps</td>\n",
       "      <td>Switzerland</td>\n",
       "    </tr>\n",
       "    <tr>\n",
       "      <th>1602</th>\n",
       "      <td>Les anti-vaccin ont-ils vraiment saboté un con...</td>\n",
       "      <td>Mardi soir, un concert organisé dans le cadre ...</td>\n",
       "      <td>Les rumeurs vont bon train. Le concert Back on...</td>\n",
       "      <td>Fanny Scuderi</td>\n",
       "      <td>2021-11-10</td>\n",
       "      <td>https://www.letemps.ch/suisse/antivaccin-ontil...</td>\n",
       "      <td>793</td>\n",
       "      <td>Le Temps</td>\n",
       "      <td>Switzerland</td>\n",
       "    </tr>\n",
       "    <tr>\n",
       "      <th>1870</th>\n",
       "      <td>New York est impatiente de voir son flot de to...</td>\n",
       "      <td>La ville espère accueillir 35 millions de visi...</td>\n",
       "      <td>«New York is back». Restrictions liées au covi...</td>\n",
       "      <td>Valérie de Graffenried</td>\n",
       "      <td>2021-11-10</td>\n",
       "      <td>https://www.letemps.ch/monde/new-york-impatien...</td>\n",
       "      <td>768</td>\n",
       "      <td>Le Temps</td>\n",
       "      <td>Switzerland</td>\n",
       "    </tr>\n",
       "    <tr>\n",
       "      <th>340</th>\n",
       "      <td>[En continu] «Vacciné ou guéri»: la règle autr...</td>\n",
       "      <td>La Suisse compte plus de 4000 cas de plus en 2...</td>\n",
       "      <td>Selon un sondage effectué par le site Comparis...</td>\n",
       "      <td>Le Temps avec les agences et les réseaux</td>\n",
       "      <td>2021-11-10</td>\n",
       "      <td>https://www.letemps.ch/monde/continu-vaccine-g...</td>\n",
       "      <td>1206</td>\n",
       "      <td>Le Temps</td>\n",
       "      <td>Switzerland</td>\n",
       "    </tr>\n",
       "    <tr>\n",
       "      <th>1852</th>\n",
       "      <td>Le centre droit, terre de réélection pour Emma...</td>\n",
       "      <td>Le président français a, de fait, lancé mardi ...</td>\n",
       "      <td>Inutile de redonner ici, dans le détail, les p...</td>\n",
       "      <td>Richard Werly</td>\n",
       "      <td>2021-11-10</td>\n",
       "      <td>https://www.letemps.ch/monde/centre-droit-terr...</td>\n",
       "      <td>813</td>\n",
       "      <td>Le Temps</td>\n",
       "      <td>Switzerland</td>\n",
       "    </tr>\n",
       "  </tbody>\n",
       "</table>\n",
       "<p>2415 rows × 9 columns</p>\n",
       "</div>"
      ],
      "text/plain": [
       "                                                  Title  \\\n",
       "876                        Taïwan, cette Chine qui vote   \n",
       "1955  Alain Berset estime que la Suisse est bien pré...   \n",
       "1600  Comment la blockchain peut transformer la sant...   \n",
       "2349  Ute Ströher, la discrète scientifique qui a dé...   \n",
       "2395  Leo Poon: «Il sagit dun virus particulièrement...   \n",
       "...                                                 ...   \n",
       "2214  Une pénurie de 2 milliards de seringues se pro...   \n",
       "1602  Les anti-vaccin ont-ils vraiment saboté un con...   \n",
       "1870  New York est impatiente de voir son flot de to...   \n",
       "340   [En continu] «Vacciné ou guéri»: la règle autr...   \n",
       "1852  Le centre droit, terre de réélection pour Emma...   \n",
       "\n",
       "                                            Subheadline  \\\n",
       "876   La contestation à Hongkong électrise le climat...   \n",
       "1955  En marge du WEF à Davos, le ministre de la San...   \n",
       "1600  La technologie des registres distribués permet...   \n",
       "2349  La chercheuse allemande, discrète mais très po...   \n",
       "2395  Alors que le bilan du 2019-nCoV, un coronaviru...   \n",
       "...                                                 ...   \n",
       "2214  L’Organisation mondiale de la santé prend les ...   \n",
       "1602  Mardi soir, un concert organisé dans le cadre ...   \n",
       "1870  La ville espère accueillir 35 millions de visi...   \n",
       "340   La Suisse compte plus de 4000 cas de plus en 2...   \n",
       "1852  Le président français a, de fait, lancé mardi ...   \n",
       "\n",
       "                                                   Text  \\\n",
       "876   «Ce n’est pas un scrutin contre le Kuomintang»...   \n",
       "1955  «Nous sommes très bien préparés». Le conseille...   \n",
       "1600  La blockchain, ce n’est pas seulement le bitco...   \n",
       "2349  Sur internet, son empreinte digitale ne livre ...   \n",
       "2395  Professeur de santé publique à l’Université de...   \n",
       "...                                                 ...   \n",
       "2214  C’est le phénomène auquel peu de monde avait s...   \n",
       "1602  Les rumeurs vont bon train. Le concert Back on...   \n",
       "1870  «New York is back». Restrictions liées au covi...   \n",
       "340   Selon un sondage effectué par le site Comparis...   \n",
       "1852  Inutile de redonner ici, dans le détail, les p...   \n",
       "\n",
       "                                             Authors        Date  \\\n",
       "876   Anne-Sophie Labadie, envoyée spéciale à Taipei  2020-01-07   \n",
       "1955                                             ATS  2020-01-22   \n",
       "1600                                 Sébastien Ruche  2020-01-22   \n",
       "2349                                Stéphane Bussard  2020-01-23   \n",
       "2395                          Julie Zaugg, Hong Kong  2020-01-23   \n",
       "...                                              ...         ...   \n",
       "2214                                Stéphane Bussard  2021-11-09   \n",
       "1602                                   Fanny Scuderi  2021-11-10   \n",
       "1870                          Valérie de Graffenried  2021-11-10   \n",
       "340         Le Temps avec les agences et les réseaux  2021-11-10   \n",
       "1852                                   Richard Werly  2021-11-10   \n",
       "\n",
       "                                                   Link  n_words Newspaper  \\\n",
       "876   https://www.letemps.ch/monde/taiwan-cette-chin...     1333  Le Temps   \n",
       "1955  https://www.letemps.ch/suisse/alain-berset-est...      592  Le Temps   \n",
       "1600  https://www.letemps.ch/economie/blockchain-tra...      494  Le Temps   \n",
       "2349  https://www.letemps.ch/monde/ute-stroher-discr...      954  Le Temps   \n",
       "2395  https://www.letemps.ch/monde/leo-poon-sagit-du...      741  Le Temps   \n",
       "...                                                 ...      ...       ...   \n",
       "2214  https://www.letemps.ch/monde/une-penurie-2-mil...      639  Le Temps   \n",
       "1602  https://www.letemps.ch/suisse/antivaccin-ontil...      793  Le Temps   \n",
       "1870  https://www.letemps.ch/monde/new-york-impatien...      768  Le Temps   \n",
       "340   https://www.letemps.ch/monde/continu-vaccine-g...     1206  Le Temps   \n",
       "1852  https://www.letemps.ch/monde/centre-droit-terr...      813  Le Temps   \n",
       "\n",
       "          Country  \n",
       "876   Switzerland  \n",
       "1955  Switzerland  \n",
       "1600  Switzerland  \n",
       "2349  Switzerland  \n",
       "2395  Switzerland  \n",
       "...           ...  \n",
       "2214  Switzerland  \n",
       "1602  Switzerland  \n",
       "1870  Switzerland  \n",
       "340   Switzerland  \n",
       "1852  Switzerland  \n",
       "\n",
       "[2415 rows x 9 columns]"
      ]
     },
     "execution_count": 13,
     "metadata": {},
     "output_type": "execute_result"
    }
   ],
   "source": [
    "df.sort_values('Date')"
   ]
  },
  {
   "cell_type": "code",
   "execution_count": 4,
   "id": "d3992356",
   "metadata": {},
   "outputs": [
    {
     "data": {
      "text/plain": [
       "'https://www.letemps.ch/monde/new-york-impatiente-voir-flot-touristes-arriver'"
      ]
     },
     "execution_count": 4,
     "metadata": {},
     "output_type": "execute_result"
    }
   ],
   "source": [
    "df.Link[2041]"
   ]
  },
  {
   "cell_type": "code",
   "execution_count": null,
   "id": "e528e208",
   "metadata": {},
   "outputs": [],
   "source": [
    "df['date'] = pd.to_datetime(df['date'])\n",
    "df = df.set_index('date') \n",
    "weekly_summary = df.story_point.resample('W').sum()"
   ]
  },
  {
   "cell_type": "code",
   "execution_count": 51,
   "id": "bb9cb815",
   "metadata": {},
   "outputs": [],
   "source": []
  },
  {
   "cell_type": "code",
   "execution_count": 52,
   "id": "e13b13ec",
   "metadata": {},
   "outputs": [
    {
     "data": {
      "image/png": "[encoded data removed]",
      "text/plain": [
       "<Figure size 720x720 with 1 Axes>"
      ]
     },
     "metadata": {
      "needs_background": "light"
     },
     "output_type": "display_data"
    }
   ],
   "source": [
    "# Create figure and plot space\n",
    "fig, ax = plt.subplots(figsize=(10, 10))\n",
    "\n",
    "# Add x-axis and y-axis\n",
    "ax.scatter(df_monthly.index.values,\n",
    "           df_monthly.values)\n",
    "\n",
    "# Set title and labels for axes\n",
    "ax.set(xlabel=\"Date\",\n",
    "       ylabel=\"Number of article\",\n",
    "       title=\"Number of articles by month\")\n",
    "\n",
    "plt.show()"
   ]
  },
  {
   "cell_type": "markdown",
   "id": "cb275064",
   "metadata": {},
   "source": [
    "### NER"
   ]
  },
  {
   "cell_type": "code",
   "execution_count": 3,
   "id": "e6d520c9",
   "metadata": {},
   "outputs": [],
   "source": [
    "df_ner= ner(df.Text,\"fr_core_news_sm\")"
   ]
  },
  {
   "cell_type": "code",
   "execution_count": 4,
   "id": "577ef2ab",
   "metadata": {},
   "outputs": [],
   "source": [
    "df_ner=df_ner.groupby(['Entity','Label']).size().reset_index(name='Frequency')"
   ]
  },
  {
   "cell_type": "code",
   "execution_count": 5,
   "id": "52f448c9",
   "metadata": {},
   "outputs": [],
   "source": [
    "#Eliminate wrong entitites\n",
    "list_wrong_entities=['l’', 'n’','L’','c’','C’','l’','–','jusqu’','j’','Retrouvez']\n",
    "df_ner=df_ner[~df_ner.Entity.isin(list_wrong_entities)]"
   ]
  },
  {
   "cell_type": "code",
   "execution_count": 9,
   "id": "49a75777",
   "metadata": {},
   "outputs": [
    {
     "data": {
      "text/plain": [
       "Text(0.5, 1.0, 'Most frequent NE PERSON')"
      ]
     },
     "execution_count": 9,
     "metadata": {},
     "output_type": "execute_result"
    },
    {
     "data": {
      "image/png": "[encoded data removed]",
      "text/plain": [
       "<Figure size 1080x720 with 4 Axes>"
      ]
     },
     "metadata": {
      "needs_background": "light"
     },
     "output_type": "display_data"
    }
   ],
   "source": [
    "fig, axs = plt.subplots(2, 2,figsize=(15,10))\n",
    "axs[0, 0].barh(y=df_ner.sort_values('Frequency',ascending=False).head(20)['Entity'],width=df_ner.sort_values('Frequency',ascending=False).head(20)['Frequency'])\n",
    "axs[0,0].set_title('Most frequent NE')\n",
    "axs[0, 1].barh(y=df_ner[df_ner['Label']==\"ORG\"].sort_values('Frequency',ascending=False).head(20)['Entity'], width=df_ner[df_ner['Label']==\"ORG\"].sort_values('Frequency',ascending=False).head(20)['Frequency'])\n",
    "axs[0,1].set_title('Most frequent NE ORGANIZATION')\n",
    "axs[1, 0].barh(y=df_ner[df_ner['Label']==\"LOC\"].sort_values('Frequency',ascending=False).head(20)['Entity'], width=df_ner[df_ner['Label']==\"LOC\"].sort_values('Frequency',ascending=False).head(20)['Frequency'])\n",
    "axs[1,0].set_title('Most frequent NE LOCATION')\n",
    "axs[1, 1].barh(y=df_ner[df_ner['Label']==\"PER\"].sort_values('Frequency',ascending=False).head(20)['Entity'], width=df_ner[df_ner['Label']==\"PER\"].sort_values('Frequency',ascending=False).head(20)['Frequency'])\n",
    "axs[1,1].set_title('Most frequent NE PERSON')"
   ]
  }
 ],
 "metadata": {
  "kernelspec": {
   "display_name": "Python 3 (ipykernel)",
   "language": "python",
   "name": "python3"
  },
  "language_info": {
   "codemirror_mode": {
    "name": "ipython",
    "version": 3
   },
   "file_extension": ".py",
   "mimetype": "text/x-python",
   "name": "python",
   "nbconvert_exporter": "python",
   "pygments_lexer": "ipython3",
   "version": "3.9.7"
  }
 },
 "nbformat": 4,
 "nbformat_minor": 5
}

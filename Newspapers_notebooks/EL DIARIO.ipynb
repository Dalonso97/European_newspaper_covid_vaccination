{
 "cells": [
  {
   "cell_type": "code",
   "execution_count": null,
   "id": "1bfd8a3d",
   "metadata": {},
   "outputs": [],
   "source": [
    "Notebook to get and clean the data of El Diario newspaper about covid19 vaccination"
   ]
  },
  {
   "cell_type": "code",
   "execution_count": null,
   "id": "539e0b98",
   "metadata": {},
   "outputs": [],
   "source": []
  },
  {
   "cell_type": "code",
   "execution_count": 19,
   "id": "facacd72",
   "metadata": {},
   "outputs": [],
   "source": [
    "from helpers import *"
   ]
  },
  {
   "cell_type": "code",
   "execution_count": 19,
   "id": "89c74dc0",
   "metadata": {},
   "outputs": [],
   "source": [
    "def get_links_el_diario(url): \n",
    "    list_links_el_diario=[]\n",
    "    driver.get(url)\n",
    "    # Press the button while there are some, because they are added, see below,\n",
    "     #once we have them all loaded, we put them in the list, because if we collect them every time we press the button\n",
    "     #see below there would be many duplicates.\n",
    "    while True: \n",
    "    #     time.sleep(1)\n",
    "        try: \n",
    "            next = driver.find_element_by_xpath('/html/body/div[3]/div/div[2]/div[1]/button')\n",
    "            next.click()\n",
    "        except :\n",
    "\n",
    "            print(\"No more pages left\")\n",
    "            break\n",
    "    links = driver.find_elements_by_xpath('//h2/a')\n",
    "    for i in links: \n",
    "        list_links_el_diario.append(i.get_attribute('href'))\n",
    "    return list_links_el_diario"
   ]
  },
  {
   "cell_type": "code",
   "execution_count": 13,
   "id": "3daf1292",
   "metadata": {},
   "outputs": [],
   "source": [
    "def get_html_el_diario(list_links):\n",
    "    #Count\n",
    "    extracted_articles=0 \n",
    "    for i in list_links: \n",
    "        driver.get(i)\n",
    "        html = driver.page_source\n",
    "        tail=i.split('/')[-1]\n",
    "        extracted_articles += 1\n",
    "        with open(f'/home/david/Escritorio/VACTINATION_PROJECT/HTMLs/EL_DIARIO/{tail}.txt', 'w') as f: \n",
    "            f.write(html)\n",
    "        print(f'Extracted articles: {extracted_articles} of {len(list_links)}',end='\\r')"
   ]
  },
  {
   "cell_type": "code",
   "execution_count": 20,
   "id": "f3e73e9f",
   "metadata": {},
   "outputs": [],
   "source": [
    "# Clean function in order to eliminate characters like \\n or \\n\\n after scraping\n",
    "def preprocessor(text):\n",
    "#     text = str(text).lower()\n",
    "    \n",
    "#     text = re.sub('https?://\\S+|www\\.\\S+', '', text)\n",
    "#     text = re.sub('<.*?>+', '', text)\n",
    "#     text = re.sub('[%s]' % re.escape(string.punctuation), '', text)\n",
    "    text = text.strip()\n",
    "    text = re.sub('\\n\\n', '', text)\n",
    "    text = re.sub('\\'','', text)\n",
    "    text = re.sub('\\n', '', text)\n",
    "    text = re.sub('\\xad', '', text)\n",
    "    text = re.sub('\\xa0', '', text)\n",
    "    text = re.sub('\\u2009', '', text)\n",
    "    text = re.sub('\\u200b', '', text)\n",
    "    text = re.sub('\\ufeff', '', text)\n",
    "    text = re.sub(' +', ' ',text)\n",
    "#     text = re.sub('\\w*\\d\\w*', '', text)\n",
    "    return text"
   ]
  },
  {
   "cell_type": "markdown",
   "id": "3da9800a",
   "metadata": {},
   "source": [
    "## EL DIARIO"
   ]
  },
  {
   "cell_type": "code",
   "execution_count": 14,
   "id": "67c21eac",
   "metadata": {},
   "outputs": [
    {
     "name": "stderr",
     "output_type": "stream",
     "text": [
      "\n",
      "\n",
      "====== WebDriver manager ======\n",
      "Current google-chrome version is 96.0.4664\n",
      "Get LATEST driver version for 96.0.4664\n",
      "Driver [/home/david/.wdm/drivers/chromedriver/linux64/96.0.4664.45/chromedriver] found in cache\n"
     ]
    }
   ],
   "source": [
    "#Install Driver\n",
    "# Versión Chrome 89.0.4389.114 (Build oficial) (64 bits)\n",
    "driver = webdriver.Chrome(ChromeDriverManager().install())"
   ]
  },
  {
   "cell_type": "code",
   "execution_count": 15,
   "id": "ae86304e",
   "metadata": {},
   "outputs": [],
   "source": [
    "search_url='https://www.eldiario.es/temas/vacunas/'\n",
    "\n",
    "driver.get(search_url)\n",
    "\n",
    "time.sleep(1)\n",
    "# Aceptar cookkies\n",
    "driver.find_element_by_xpath('/html/body/div[1]/div/div/div/div/div[2]/button[2]').click()"
   ]
  },
  {
   "cell_type": "code",
   "execution_count": 26,
   "id": "501088cd",
   "metadata": {},
   "outputs": [
    {
     "name": "stdout",
     "output_type": "stream",
     "text": [
      "No more pages left\n"
     ]
    }
   ],
   "source": [
    "list_links_el_diario = get_links_el_diario(search_url)"
   ]
  },
  {
   "cell_type": "code",
   "execution_count": 27,
   "id": "3c5e97bf",
   "metadata": {},
   "outputs": [],
   "source": [
    "# Store the list in a document\n",
    "with open(\"list_links_el_diario.txt\", 'w') as f:\n",
    "    for s in list_links_el_diario:\n",
    "        f.write(str(s) + '\\n')"
   ]
  },
  {
   "cell_type": "code",
   "execution_count": 28,
   "id": "523523ed",
   "metadata": {},
   "outputs": [
    {
     "data": {
      "text/plain": [
       "1402"
      ]
     },
     "execution_count": 28,
     "metadata": {},
     "output_type": "execute_result"
    }
   ],
   "source": [
    "with open(\"list_links_el_diario.txt\", 'r') as f:\n",
    "    list_links_el_diario = [line.rstrip('\\n') for line in f]\n",
    "len(list_links_el_diario)"
   ]
  },
  {
   "cell_type": "code",
   "execution_count": 35,
   "id": "f3bb6388",
   "metadata": {},
   "outputs": [
    {
     "name": "stdout",
     "output_type": "stream",
     "text": [
      "Extracted articles: 1402 of 1402\r"
     ]
    }
   ],
   "source": [
    "get_html_el_diario(list_links_el_diario)"
   ]
  },
  {
   "cell_type": "code",
   "execution_count": 3,
   "id": "81222a28",
   "metadata": {},
   "outputs": [],
   "source": [
    "import os\n",
    "list_articles_vacunacion_diario=[]\n",
    "for filename in os.listdir(\"/home/david/Escritorio/VACCINATION_PROJECT/HTMLs/EL_DIARIO/\"):\n",
    "    with open(os.path.join(\"/home/david/Escritorio/VACCINATION_PROJECT/HTMLs/EL_DIARIO/\", filename), 'r') as f:\n",
    "        html_file = f.read()\n",
    "    list_text=[]\n",
    "    soup = BeautifulSoup(html_file, 'html.parser')\n",
    "    try:\n",
    "        title=soup.find(\"h1\", class_=\"title\").text.strip()\n",
    "    except: \n",
    "        title=\"error\"\n",
    "    try:\n",
    "        author=soup.find(\"div\", class_=\"info-wrapper\").find(\"p\",class_=\"authors\").text.strip()\n",
    "    except: \n",
    "        author = \"error\"\n",
    "    try:\n",
    "        link=soup.find('link', rel='canonical')['href']\n",
    "    except: \n",
    "        link=\"error\"\n",
    "    try:\n",
    "        subheadline = soup.find(\"h2\").text.strip()\n",
    "    except: \n",
    "        subheadline=\"error\"\n",
    "    try:\n",
    "        date= soup.find(class_=\"day\").text.strip()\n",
    "    except: \n",
    "        date=\"error\"\n",
    "    try:\n",
    "        if soup.find(\"aside\",class_='news-outlook'):\n",
    "            aside_info=soup.find(\"aside\",class_='news-outlook').decompose()\n",
    "        tf = soup.find(\"div\",class_=\"partner-wrapper article-page__body-row\").find(\"div\",class_=\"second-col\").find_all(\"p\", class_=\"article-text\")\n",
    "        for p in tf:\n",
    "            list_text.append(p.get_text().strip())\n",
    "        text=' '.join(list_text)\n",
    "    except: \n",
    "        text= \"error\"\n",
    "    list_articles_vacunacion_diario.append({'Title': title, \n",
    "                          'Subheadline':subheadline,\n",
    "                          'Text':text,\n",
    "                          'Authors': author, \n",
    "                          'Date': date,\n",
    "                          'Link':link}) \n"
   ]
  },
  {
   "cell_type": "code",
   "execution_count": 21,
   "id": "9d1b1608",
   "metadata": {},
   "outputs": [],
   "source": [
    "articles_el_diario = pd.DataFrame.from_dict(list_articles_vacunacion_diario)"
   ]
  },
  {
   "cell_type": "code",
   "execution_count": 22,
   "id": "3f1261e4",
   "metadata": {},
   "outputs": [
    {
     "data": {
      "text/html": [
       "<div>\n",
       "<style scoped>\n",
       "    .dataframe tbody tr th:only-of-type {\n",
       "        vertical-align: middle;\n",
       "    }\n",
       "\n",
       "    .dataframe tbody tr th {\n",
       "        vertical-align: top;\n",
       "    }\n",
       "\n",
       "    .dataframe thead th {\n",
       "        text-align: right;\n",
       "    }\n",
       "</style>\n",
       "<table border=\"1\" class=\"dataframe\">\n",
       "  <thead>\n",
       "    <tr style=\"text-align: right;\">\n",
       "      <th></th>\n",
       "      <th>Title</th>\n",
       "      <th>Subheadline</th>\n",
       "      <th>Text</th>\n",
       "      <th>Authors</th>\n",
       "      <th>Date</th>\n",
       "      <th>Link</th>\n",
       "    </tr>\n",
       "  </thead>\n",
       "  <tbody>\n",
       "    <tr>\n",
       "      <th>0</th>\n",
       "      <td>La farmacéutica Pfizer asegura que su vacuna c...</td>\n",
       "      <td>Los primeros resultados provisionales en ensay...</td>\n",
       "      <td>La vacuna contra la COVID-19 de la farmacéutic...</td>\n",
       "      <td>elDiario.es</td>\n",
       "      <td>9 de noviembre de 2020</td>\n",
       "      <td>https://www.eldiario.es/sociedad/farmaceutica-...</td>\n",
       "    </tr>\n",
       "    <tr>\n",
       "      <th>1</th>\n",
       "      <td>Los policías nacionales y guardias civiles des...</td>\n",
       "      <td>El delegado del Gobierno asegura que Sagardui ...</td>\n",
       "      <td>El delegado del Gobierno en Euskadi, Denis Itx...</td>\n",
       "      <td>elDiario.es Euskadi\\n                         ...</td>\n",
       "      <td>18 de febrero de 2021</td>\n",
       "      <td>https://www.eldiario.es/euskadi/policias-nacio...</td>\n",
       "    </tr>\n",
       "    <tr>\n",
       "      <th>2</th>\n",
       "      <td>Los contrastes de la pandemia: de la falta de ...</td>\n",
       "      <td>Catalunya vuelve a retrasar cirugías por colap...</td>\n",
       "      <td>España es un país de contrastes, también en la...</td>\n",
       "      <td>Mónica Zas Marcos</td>\n",
       "      <td>27 de julio de 2021</td>\n",
       "      <td>https://www.eldiario.es/sociedad/pandemia-falt...</td>\n",
       "    </tr>\n",
       "    <tr>\n",
       "      <th>3</th>\n",
       "      <td>Los nuevos antivirales anticipan una etapa dif...</td>\n",
       "      <td>Aunque prometedores, los tratamientos desarrol...</td>\n",
       "      <td>Durante la mayor parte de la pandemia, la mejo...</td>\n",
       "      <td>Esther Samper</td>\n",
       "      <td>21 de noviembre de 2021</td>\n",
       "      <td>https://www.eldiario.es/sociedad/nuevos-antivi...</td>\n",
       "    </tr>\n",
       "    <tr>\n",
       "      <th>4</th>\n",
       "      <td>Carmen Calvo afirma que no existe la posibilid...</td>\n",
       "      <td>error</td>\n",
       "      <td>La vicepresidenta primera del Gobierno y minis...</td>\n",
       "      <td>Europa Press</td>\n",
       "      <td>28 de mayo de 2021</td>\n",
       "      <td>https://www.eldiario.es/andalucia/carmen-calvo...</td>\n",
       "    </tr>\n",
       "    <tr>\n",
       "      <th>...</th>\n",
       "      <td>...</td>\n",
       "      <td>...</td>\n",
       "      <td>...</td>\n",
       "      <td>...</td>\n",
       "      <td>...</td>\n",
       "      <td>...</td>\n",
       "    </tr>\n",
       "    <tr>\n",
       "      <th>1397</th>\n",
       "      <td>CORONAVIRUS\\n                     \\n\\n\\n \\n\\n ...</td>\n",
       "      <td>El Ministerio de Sanidad ha notificado 39.638 ...</td>\n",
       "      <td>La tasa de incidencia a 14 días ha experimenta...</td>\n",
       "      <td>elDiario.es</td>\n",
       "      <td>9 de agosto de 2021</td>\n",
       "      <td>https://www.eldiario.es/sociedad/incidencia-ca...</td>\n",
       "    </tr>\n",
       "    <tr>\n",
       "      <th>1398</th>\n",
       "      <td>El director del Serum Institute, el mayor fabr...</td>\n",
       "      <td>Poonawalla es el director ejecutivo de la empr...</td>\n",
       "      <td>Adar Poonawalla, de 40 años, es el director ej...</td>\n",
       "      <td>Laura Spinney</td>\n",
       "      <td>16 de febrero de 2021</td>\n",
       "      <td>https://www.eldiario.es/internacional/theguard...</td>\n",
       "    </tr>\n",
       "    <tr>\n",
       "      <th>1399</th>\n",
       "      <td>Catalunya prevé comenzar la vacunación a la po...</td>\n",
       "      <td>La Generalitat advierte de que la Semana Santa...</td>\n",
       "      <td>A partir de abril y de forma progresiva. Este ...</td>\n",
       "      <td>elDiario.es / ACN</td>\n",
       "      <td>14 de marzo de 2021</td>\n",
       "      <td>https://www.eldiario.es/catalunya/catalunya-pr...</td>\n",
       "    </tr>\n",
       "    <tr>\n",
       "      <th>1400</th>\n",
       "      <td>Un estudio sobre 1,3 millones de niños da carp...</td>\n",
       "      <td>Una revisión de todos los estudios científicos...</td>\n",
       "      <td>Es algo que ya se sabía, pero una revisión de ...</td>\n",
       "      <td>Materia</td>\n",
       "      <td>18 de mayo de 2014</td>\n",
       "      <td>https://www.eldiario.es/sociedad/millones-carp...</td>\n",
       "    </tr>\n",
       "    <tr>\n",
       "      <th>1401</th>\n",
       "      <td>Galicia recibe una nueva remesa de 18.500 vacu...</td>\n",
       "      <td>La Xunta está reservando un tercio de las dosi...</td>\n",
       "      <td>Una nueva remesa, de 18.500 vacunas contra la ...</td>\n",
       "      <td>Beatriz Muñoz</td>\n",
       "      <td>4 de enero de 2021</td>\n",
       "      <td>https://www.eldiario.es/galicia/politica/galic...</td>\n",
       "    </tr>\n",
       "  </tbody>\n",
       "</table>\n",
       "<p>1402 rows × 6 columns</p>\n",
       "</div>"
      ],
      "text/plain": [
       "                                                  Title  \\\n",
       "0     La farmacéutica Pfizer asegura que su vacuna c...   \n",
       "1     Los policías nacionales y guardias civiles des...   \n",
       "2     Los contrastes de la pandemia: de la falta de ...   \n",
       "3     Los nuevos antivirales anticipan una etapa dif...   \n",
       "4     Carmen Calvo afirma que no existe la posibilid...   \n",
       "...                                                 ...   \n",
       "1397  CORONAVIRUS\\n                     \\n\\n\\n \\n\\n ...   \n",
       "1398  El director del Serum Institute, el mayor fabr...   \n",
       "1399  Catalunya prevé comenzar la vacunación a la po...   \n",
       "1400  Un estudio sobre 1,3 millones de niños da carp...   \n",
       "1401  Galicia recibe una nueva remesa de 18.500 vacu...   \n",
       "\n",
       "                                            Subheadline  \\\n",
       "0     Los primeros resultados provisionales en ensay...   \n",
       "1     El delegado del Gobierno asegura que Sagardui ...   \n",
       "2     Catalunya vuelve a retrasar cirugías por colap...   \n",
       "3     Aunque prometedores, los tratamientos desarrol...   \n",
       "4                                                 error   \n",
       "...                                                 ...   \n",
       "1397  El Ministerio de Sanidad ha notificado 39.638 ...   \n",
       "1398  Poonawalla es el director ejecutivo de la empr...   \n",
       "1399  La Generalitat advierte de que la Semana Santa...   \n",
       "1400  Una revisión de todos los estudios científicos...   \n",
       "1401  La Xunta está reservando un tercio de las dosi...   \n",
       "\n",
       "                                                   Text  \\\n",
       "0     La vacuna contra la COVID-19 de la farmacéutic...   \n",
       "1     El delegado del Gobierno en Euskadi, Denis Itx...   \n",
       "2     España es un país de contrastes, también en la...   \n",
       "3     Durante la mayor parte de la pandemia, la mejo...   \n",
       "4     La vicepresidenta primera del Gobierno y minis...   \n",
       "...                                                 ...   \n",
       "1397  La tasa de incidencia a 14 días ha experimenta...   \n",
       "1398  Adar Poonawalla, de 40 años, es el director ej...   \n",
       "1399  A partir de abril y de forma progresiva. Este ...   \n",
       "1400  Es algo que ya se sabía, pero una revisión de ...   \n",
       "1401  Una nueva remesa, de 18.500 vacunas contra la ...   \n",
       "\n",
       "                                                Authors  \\\n",
       "0                                           elDiario.es   \n",
       "1     elDiario.es Euskadi\\n                         ...   \n",
       "2                                     Mónica Zas Marcos   \n",
       "3                                         Esther Samper   \n",
       "4                                          Europa Press   \n",
       "...                                                 ...   \n",
       "1397                                        elDiario.es   \n",
       "1398                                      Laura Spinney   \n",
       "1399                                  elDiario.es / ACN   \n",
       "1400                                            Materia   \n",
       "1401                                      Beatriz Muñoz   \n",
       "\n",
       "                         Date  \\\n",
       "0      9 de noviembre de 2020   \n",
       "1       18 de febrero de 2021   \n",
       "2         27 de julio de 2021   \n",
       "3     21 de noviembre de 2021   \n",
       "4          28 de mayo de 2021   \n",
       "...                       ...   \n",
       "1397      9 de agosto de 2021   \n",
       "1398    16 de febrero de 2021   \n",
       "1399      14 de marzo de 2021   \n",
       "1400       18 de mayo de 2014   \n",
       "1401       4 de enero de 2021   \n",
       "\n",
       "                                                   Link  \n",
       "0     https://www.eldiario.es/sociedad/farmaceutica-...  \n",
       "1     https://www.eldiario.es/euskadi/policias-nacio...  \n",
       "2     https://www.eldiario.es/sociedad/pandemia-falt...  \n",
       "3     https://www.eldiario.es/sociedad/nuevos-antivi...  \n",
       "4     https://www.eldiario.es/andalucia/carmen-calvo...  \n",
       "...                                                 ...  \n",
       "1397  https://www.eldiario.es/sociedad/incidencia-ca...  \n",
       "1398  https://www.eldiario.es/internacional/theguard...  \n",
       "1399  https://www.eldiario.es/catalunya/catalunya-pr...  \n",
       "1400  https://www.eldiario.es/sociedad/millones-carp...  \n",
       "1401  https://www.eldiario.es/galicia/politica/galic...  \n",
       "\n",
       "[1402 rows x 6 columns]"
      ]
     },
     "execution_count": 22,
     "metadata": {},
     "output_type": "execute_result"
    }
   ],
   "source": [
    "articles_el_diario"
   ]
  },
  {
   "cell_type": "markdown",
   "id": "b1f54638",
   "metadata": {},
   "source": [
    "### CLEANING ARTICLES"
   ]
  },
  {
   "cell_type": "code",
   "execution_count": 23,
   "id": "e3e01619",
   "metadata": {},
   "outputs": [],
   "source": [
    "articles_el_diario['Newspaper']= 'EL Diario'\n",
    "articles_el_diario['Country']= 'Spain'"
   ]
  },
  {
   "cell_type": "code",
   "execution_count": 24,
   "id": "bdad0c6c",
   "metadata": {},
   "outputs": [],
   "source": [
    "articles_el_diario['Text'] = articles_el_diario['Text'].apply(preprocessor)\n",
    "articles_el_diario['Title'] = articles_el_diario['Title'].apply(preprocessor)"
   ]
  },
  {
   "cell_type": "code",
   "execution_count": 25,
   "id": "44c726d6",
   "metadata": {},
   "outputs": [],
   "source": [
    "articles_el_diario['n_words'] = articles_el_diario.Text.apply(lambda x: len(str(x).split(' ')))"
   ]
  },
  {
   "cell_type": "code",
   "execution_count": 26,
   "id": "fcc99249",
   "metadata": {},
   "outputs": [],
   "source": [
    "articles_el_diario=articles_el_diario.drop(articles_el_diario[articles_el_diario['n_words']<80].index, inplace=False)"
   ]
  },
  {
   "cell_type": "code",
   "execution_count": 27,
   "id": "4f32356b",
   "metadata": {},
   "outputs": [
    {
     "name": "stderr",
     "output_type": "stream",
     "text": [
      "/home/david/anaconda3/lib/python3.9/site-packages/dateparser/date_parser.py:35: PytzUsageWarning: The localize method is no longer necessary, as this time zone supports the fold attribute (PEP 495). For more details on migrating to a PEP 495-compliant implementation, see https://pytz-deprecation-shim.readthedocs.io/en/latest/migration.html\n",
      "  date_obj = stz.localize(date_obj)\n",
      "/tmp/ipykernel_90247/1928111345.py:4: SettingWithCopyWarning: \n",
      "A value is trying to be set on a copy of a slice from a DataFrame\n",
      "\n",
      "See the caveats in the documentation: https://pandas.pydata.org/pandas-docs/stable/user_guide/indexing.html#returning-a-view-versus-a-copy\n",
      "  articles_el_diario['Date'][index] =dateparser.parse(row.Date).date()\n"
     ]
    }
   ],
   "source": [
    "#Date\n",
    "for index,row in articles_el_diario.iterrows(): \n",
    "    try:\n",
    "        articles_el_diario['Date'][index] =dateparser.parse(row.Date).date()\n",
    "    except: \n",
    "        continue\n",
    "# articles_el_diario['Date'] = pd.to_datetime(articles_el_diario['Date'], utc=True)"
   ]
  },
  {
   "cell_type": "code",
   "execution_count": 28,
   "id": "6ae1ea74",
   "metadata": {},
   "outputs": [],
   "source": [
    "articles_el_diario['Date'] = pd.to_datetime(articles_el_diario['Date'])"
   ]
  },
  {
   "cell_type": "code",
   "execution_count": 29,
   "id": "ab16852a",
   "metadata": {},
   "outputs": [],
   "source": [
    "articles_el_diario=articles_el_diario.drop(articles_el_diario[articles_el_diario['Date']<'2020-01-01'].index, inplace=False)"
   ]
  },
  {
   "cell_type": "code",
   "execution_count": 30,
   "id": "57969089",
   "metadata": {},
   "outputs": [
    {
     "data": {
      "text/html": [
       "<div>\n",
       "<style scoped>\n",
       "    .dataframe tbody tr th:only-of-type {\n",
       "        vertical-align: middle;\n",
       "    }\n",
       "\n",
       "    .dataframe tbody tr th {\n",
       "        vertical-align: top;\n",
       "    }\n",
       "\n",
       "    .dataframe thead th {\n",
       "        text-align: right;\n",
       "    }\n",
       "</style>\n",
       "<table border=\"1\" class=\"dataframe\">\n",
       "  <thead>\n",
       "    <tr style=\"text-align: right;\">\n",
       "      <th></th>\n",
       "      <th>Title</th>\n",
       "      <th>Subheadline</th>\n",
       "      <th>Text</th>\n",
       "      <th>Authors</th>\n",
       "      <th>Date</th>\n",
       "      <th>Link</th>\n",
       "      <th>Newspaper</th>\n",
       "      <th>Country</th>\n",
       "      <th>n_words</th>\n",
       "    </tr>\n",
       "  </thead>\n",
       "  <tbody>\n",
       "    <tr>\n",
       "      <th>526</th>\n",
       "      <td>Castilla-La Mancha amplía la vacuna frente a m...</td>\n",
       "      <td>Entra en vigor el nuevo calendario de vacunaci...</td>\n",
       "      <td>Este lunes 20 de enero entra en vigor elnuevo ...</td>\n",
       "      <td>elDiarioclm.es</td>\n",
       "      <td>2020-01-20</td>\n",
       "      <td>https://www.eldiario.es/castilla-la-mancha/tet...</td>\n",
       "      <td>EL Diario</td>\n",
       "      <td>Spain</td>\n",
       "      <td>496</td>\n",
       "    </tr>\n",
       "    <tr>\n",
       "      <th>775</th>\n",
       "      <td>Cinco preguntas para saber cuándo habrá una va...</td>\n",
       "      <td>Numerosos organismos, entre los que se incluye...</td>\n",
       "      <td>Numerosos organismos, entre los que se incluye...</td>\n",
       "      <td>Aubree Gordon / Profesora de Salud Pública, Un...</td>\n",
       "      <td>2020-01-30</td>\n",
       "      <td>https://www.eldiario.es/sociedad/preguntas-sab...</td>\n",
       "      <td>EL Diario</td>\n",
       "      <td>Spain</td>\n",
       "      <td>596</td>\n",
       "    </tr>\n",
       "    <tr>\n",
       "      <th>1036</th>\n",
       "      <td>La Cámara de Cuentas alerta del descontrol en ...</td>\n",
       "      <td>La Consejería de Sanidad no dispone de un \"sis...</td>\n",
       "      <td>La Comunidad de Madrid no tiene \"un sistema ad...</td>\n",
       "      <td>elDiario.es Madrid</td>\n",
       "      <td>2020-02-04</td>\n",
       "      <td>https://www.eldiario.es/madrid/camara-cuentas-...</td>\n",
       "      <td>EL Diario</td>\n",
       "      <td>Spain</td>\n",
       "      <td>238</td>\n",
       "    </tr>\n",
       "    <tr>\n",
       "      <th>505</th>\n",
       "      <td>Fármacos para el VIH, la gripe o el ébola: así...</td>\n",
       "      <td>Mientras las vacunas siguen su largo proceso d...</td>\n",
       "      <td>El coronavirussigue extendiéndose fuera de las...</td>\n",
       "      <td>Esther Samper</td>\n",
       "      <td>2020-03-09</td>\n",
       "      <td>https://www.eldiario.es/sociedad/avanza-busque...</td>\n",
       "      <td>EL Diario</td>\n",
       "      <td>Spain</td>\n",
       "      <td>1037</td>\n",
       "    </tr>\n",
       "    <tr>\n",
       "      <th>359</th>\n",
       "      <td>Un grupo de investigadores británicos pretende...</td>\n",
       "      <td>Investigadores de la Universidad de Oxford com...</td>\n",
       "      <td>Investigadores de la Universidad de Oxford pre...</td>\n",
       "      <td>Ian Sample</td>\n",
       "      <td>2020-03-20</td>\n",
       "      <td>https://www.eldiario.es/internacional/theguard...</td>\n",
       "      <td>EL Diario</td>\n",
       "      <td>Spain</td>\n",
       "      <td>325</td>\n",
       "    </tr>\n",
       "    <tr>\n",
       "      <th>...</th>\n",
       "      <td>...</td>\n",
       "      <td>...</td>\n",
       "      <td>...</td>\n",
       "      <td>...</td>\n",
       "      <td>...</td>\n",
       "      <td>...</td>\n",
       "      <td>...</td>\n",
       "      <td>...</td>\n",
       "      <td>...</td>\n",
       "    </tr>\n",
       "    <tr>\n",
       "      <th>694</th>\n",
       "      <td>Castilla-La Mancha ya tiene la logística para ...</td>\n",
       "      <td>El Gobierno regional recuerda que los plazos d...</td>\n",
       "      <td>El consejero de Sanidad, Jesús Fernández, ha a...</td>\n",
       "      <td>elDiarioclm.es\\n                              ...</td>\n",
       "      <td>2021-11-26</td>\n",
       "      <td>https://www.eldiario.es/castilla-la-mancha/cor...</td>\n",
       "      <td>EL Diario</td>\n",
       "      <td>Spain</td>\n",
       "      <td>502</td>\n",
       "    </tr>\n",
       "    <tr>\n",
       "      <th>692</th>\n",
       "      <td>Coronavirus La UE activa el freno de emergenci...</td>\n",
       "      <td>El mecanismo integrado de respuesta ante crisi...</td>\n",
       "      <td>La UE ha decidido suspender los vuelos desde e...</td>\n",
       "      <td>Andrés Gil</td>\n",
       "      <td>2021-11-26</td>\n",
       "      <td>https://www.eldiario.es/internacional/ue-activ...</td>\n",
       "      <td>EL Diario</td>\n",
       "      <td>Spain</td>\n",
       "      <td>1532</td>\n",
       "    </tr>\n",
       "    <tr>\n",
       "      <th>1180</th>\n",
       "      <td>Aguirre espera que antes de final de año llegu...</td>\n",
       "      <td>error</td>\n",
       "      <td>El consejero de Salud y Familias de la Junta d...</td>\n",
       "      <td>elDiarioand</td>\n",
       "      <td>2021-11-27</td>\n",
       "      <td>https://www.eldiario.es/andalucia/aguirre-espe...</td>\n",
       "      <td>EL Diario</td>\n",
       "      <td>Spain</td>\n",
       "      <td>251</td>\n",
       "    </tr>\n",
       "    <tr>\n",
       "      <th>1254</th>\n",
       "      <td>Certificado COVID: qué es y cómo funciona</td>\n",
       "      <td>Ante la subida de los contagios, ya son siete ...</td>\n",
       "      <td>Ante la subida de los contagios y la incidenci...</td>\n",
       "      <td>elDiario.es</td>\n",
       "      <td>2021-11-28</td>\n",
       "      <td>https://www.eldiario.es/sociedad/certificado-c...</td>\n",
       "      <td>EL Diario</td>\n",
       "      <td>Spain</td>\n",
       "      <td>881</td>\n",
       "    </tr>\n",
       "    <tr>\n",
       "      <th>1364</th>\n",
       "      <td>Andalucía empieza esta semana a abrir las agen...</td>\n",
       "      <td>\"Se empezará a partir del martes o miércoles p...</td>\n",
       "      <td>El consejero de Salud y Familias, Jesús Aguirr...</td>\n",
       "      <td>elDiarioand</td>\n",
       "      <td>2021-11-29</td>\n",
       "      <td>https://www.eldiario.es/andalucia/andalucia-em...</td>\n",
       "      <td>EL Diario</td>\n",
       "      <td>Spain</td>\n",
       "      <td>391</td>\n",
       "    </tr>\n",
       "  </tbody>\n",
       "</table>\n",
       "<p>1287 rows × 9 columns</p>\n",
       "</div>"
      ],
      "text/plain": [
       "                                                  Title  \\\n",
       "526   Castilla-La Mancha amplía la vacuna frente a m...   \n",
       "775   Cinco preguntas para saber cuándo habrá una va...   \n",
       "1036  La Cámara de Cuentas alerta del descontrol en ...   \n",
       "505   Fármacos para el VIH, la gripe o el ébola: así...   \n",
       "359   Un grupo de investigadores británicos pretende...   \n",
       "...                                                 ...   \n",
       "694   Castilla-La Mancha ya tiene la logística para ...   \n",
       "692   Coronavirus La UE activa el freno de emergenci...   \n",
       "1180  Aguirre espera que antes de final de año llegu...   \n",
       "1254          Certificado COVID: qué es y cómo funciona   \n",
       "1364  Andalucía empieza esta semana a abrir las agen...   \n",
       "\n",
       "                                            Subheadline  \\\n",
       "526   Entra en vigor el nuevo calendario de vacunaci...   \n",
       "775   Numerosos organismos, entre los que se incluye...   \n",
       "1036  La Consejería de Sanidad no dispone de un \"sis...   \n",
       "505   Mientras las vacunas siguen su largo proceso d...   \n",
       "359   Investigadores de la Universidad de Oxford com...   \n",
       "...                                                 ...   \n",
       "694   El Gobierno regional recuerda que los plazos d...   \n",
       "692   El mecanismo integrado de respuesta ante crisi...   \n",
       "1180                                              error   \n",
       "1254  Ante la subida de los contagios, ya son siete ...   \n",
       "1364  \"Se empezará a partir del martes o miércoles p...   \n",
       "\n",
       "                                                   Text  \\\n",
       "526   Este lunes 20 de enero entra en vigor elnuevo ...   \n",
       "775   Numerosos organismos, entre los que se incluye...   \n",
       "1036  La Comunidad de Madrid no tiene \"un sistema ad...   \n",
       "505   El coronavirussigue extendiéndose fuera de las...   \n",
       "359   Investigadores de la Universidad de Oxford pre...   \n",
       "...                                                 ...   \n",
       "694   El consejero de Sanidad, Jesús Fernández, ha a...   \n",
       "692   La UE ha decidido suspender los vuelos desde e...   \n",
       "1180  El consejero de Salud y Familias de la Junta d...   \n",
       "1254  Ante la subida de los contagios y la incidenci...   \n",
       "1364  El consejero de Salud y Familias, Jesús Aguirr...   \n",
       "\n",
       "                                                Authors       Date  \\\n",
       "526                                      elDiarioclm.es 2020-01-20   \n",
       "775   Aubree Gordon / Profesora de Salud Pública, Un... 2020-01-30   \n",
       "1036                                 elDiario.es Madrid 2020-02-04   \n",
       "505                                       Esther Samper 2020-03-09   \n",
       "359                                          Ian Sample 2020-03-20   \n",
       "...                                                 ...        ...   \n",
       "694   elDiarioclm.es\\n                              ... 2021-11-26   \n",
       "692                                          Andrés Gil 2021-11-26   \n",
       "1180                                        elDiarioand 2021-11-27   \n",
       "1254                                        elDiario.es 2021-11-28   \n",
       "1364                                        elDiarioand 2021-11-29   \n",
       "\n",
       "                                                   Link  Newspaper Country  \\\n",
       "526   https://www.eldiario.es/castilla-la-mancha/tet...  EL Diario   Spain   \n",
       "775   https://www.eldiario.es/sociedad/preguntas-sab...  EL Diario   Spain   \n",
       "1036  https://www.eldiario.es/madrid/camara-cuentas-...  EL Diario   Spain   \n",
       "505   https://www.eldiario.es/sociedad/avanza-busque...  EL Diario   Spain   \n",
       "359   https://www.eldiario.es/internacional/theguard...  EL Diario   Spain   \n",
       "...                                                 ...        ...     ...   \n",
       "694   https://www.eldiario.es/castilla-la-mancha/cor...  EL Diario   Spain   \n",
       "692   https://www.eldiario.es/internacional/ue-activ...  EL Diario   Spain   \n",
       "1180  https://www.eldiario.es/andalucia/aguirre-espe...  EL Diario   Spain   \n",
       "1254  https://www.eldiario.es/sociedad/certificado-c...  EL Diario   Spain   \n",
       "1364  https://www.eldiario.es/andalucia/andalucia-em...  EL Diario   Spain   \n",
       "\n",
       "      n_words  \n",
       "526       496  \n",
       "775       596  \n",
       "1036      238  \n",
       "505      1037  \n",
       "359       325  \n",
       "...       ...  \n",
       "694       502  \n",
       "692      1532  \n",
       "1180      251  \n",
       "1254      881  \n",
       "1364      391  \n",
       "\n",
       "[1287 rows x 9 columns]"
      ]
     },
     "execution_count": 30,
     "metadata": {},
     "output_type": "execute_result"
    }
   ],
   "source": [
    "articles_el_diario.sort_values('Date')"
   ]
  },
  {
   "cell_type": "code",
   "execution_count": 32,
   "id": "70b8d523",
   "metadata": {},
   "outputs": [],
   "source": [
    "#all articles that contains vacu\n",
    "articles_el_diario=articles_el_diario[articles_el_diario.Text.str.contains(\"vacun|Vacu\")|articles_el_diario.Title.str.contains(\"vacun|Vacu\")|articles_el_diario.Subheadline.str.contains(\"vacun|Vacu\")]"
   ]
  },
  {
   "cell_type": "code",
   "execution_count": 33,
   "id": "97ba4e10",
   "metadata": {},
   "outputs": [],
   "source": [
    "articles_el_diario.to_csv(r'/home/david/Escritorio/VACCINATION_PROJECT/DF_HTML_VERSION/articles_el_diario_29_11_21.csv', index = False)"
   ]
  },
  {
   "cell_type": "code",
   "execution_count": 34,
   "id": "df3d4d6e",
   "metadata": {
    "scrolled": true
   },
   "outputs": [],
   "source": [
    "df=pd.read_csv('/home/david/Escritorio/VACCINATION_PROJECT/DF_HTML_VERSION/articles_el_diario_29_11_21.csv')\n"
   ]
  },
  {
   "cell_type": "markdown",
   "id": "bcda9387",
   "metadata": {},
   "source": [
    "# NER"
   ]
  },
  {
   "cell_type": "code",
   "execution_count": 3,
   "id": "aa12bdf9",
   "metadata": {},
   "outputs": [],
   "source": [
    "df_ner= ner(df.Text,\"es_core_news_sm\")"
   ]
  },
  {
   "cell_type": "code",
   "execution_count": 4,
   "id": "08de3e3d",
   "metadata": {},
   "outputs": [],
   "source": [
    "df_ner=df_ner.groupby(['Entity','Label']).size().reset_index(name='Frequency')"
   ]
  },
  {
   "cell_type": "code",
   "execution_count": 5,
   "id": "424b01af",
   "metadata": {},
   "outputs": [],
   "source": [
    "#Eliminate wrong entitites\n",
    "list_wrong_entities=['Además', 'Según','según','Así','También','empezó','había','¿','habían','Sólo','Está','aún','Ahora','Nuestros','fácil']\n",
    "df_ner=df_ner[~df_ner.Entity.isin(list_wrong_entities)]"
   ]
  },
  {
   "cell_type": "code",
   "execution_count": 6,
   "id": "da81c578",
   "metadata": {},
   "outputs": [
    {
     "data": {
      "text/plain": [
       "Text(0.5, 1.0, 'Most frequent NE PERSON')"
      ]
     },
     "execution_count": 6,
     "metadata": {},
     "output_type": "execute_result"
    },
    {
     "data": {
      "image/png": "[encoded data removed]",
      "text/plain": [
       "<Figure size 1080x720 with 4 Axes>"
      ]
     },
     "metadata": {
      "needs_background": "light"
     },
     "output_type": "display_data"
    }
   ],
   "source": [
    "fig, axs = plt.subplots(2, 2,figsize=(15,10))\n",
    "axs[0, 0].barh(y=df_ner.sort_values('Frequency',ascending=False).head(20)['Entity'],width=df_ner.sort_values('Frequency',ascending=False).head(20)['Frequency'])\n",
    "axs[0,0].set_title('Most frequent NE')\n",
    "axs[0, 1].barh(y=df_ner[df_ner['Label']==\"ORG\"].sort_values('Frequency',ascending=False).head(20)['Entity'], width=df_ner[df_ner['Label']==\"ORG\"].sort_values('Frequency',ascending=False).head(20)['Frequency'])\n",
    "axs[0,1].set_title('Most frequent NE ORGANIZATION')\n",
    "axs[1, 0].barh(y=df_ner[df_ner['Label']==\"LOC\"].sort_values('Frequency',ascending=False).head(20)['Entity'], width=df_ner[df_ner['Label']==\"LOC\"].sort_values('Frequency',ascending=False).head(20)['Frequency'])\n",
    "axs[1,0].set_title('Most frequent NE LOCATION')\n",
    "axs[1, 1].barh(y=df_ner[df_ner['Label']==\"PER\"].sort_values('Frequency',ascending=False).head(20)['Entity'], width=df_ner[df_ner['Label']==\"PER\"].sort_values('Frequency',ascending=False).head(20)['Frequency'])\n",
    "axs[1,1].set_title('Most frequent NE PERSON')"
   ]
  }
 ],
 "metadata": {
  "kernelspec": {
   "display_name": "Python 3 (ipykernel)",
   "language": "python",
   "name": "python3"
  },
  "language_info": {
   "codemirror_mode": {
    "name": "ipython",
    "version": 3
   },
   "file_extension": ".py",
   "mimetype": "text/x-python",
   "name": "python",
   "nbconvert_exporter": "python",
   "pygments_lexer": "ipython3",
   "version": "3.9.7"
  }
 },
 "nbformat": 4,
 "nbformat_minor": 5
}
